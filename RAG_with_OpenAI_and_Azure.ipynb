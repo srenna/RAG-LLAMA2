{
  "nbformat": 4,
  "nbformat_minor": 0,
  "metadata": {
    "colab": {
      "provenance": [],
      "gpuType": "V100",
      "include_colab_link": true
    },
    "kernelspec": {
      "name": "python3",
      "display_name": "Python 3"
    },
    "language_info": {
      "name": "python"
    },
    "accelerator": "GPU"
  },
  "cells": [
    {
      "cell_type": "markdown",
      "metadata": {
        "id": "view-in-github",
        "colab_type": "text"
      },
      "source": [
        "<a href=\"https://colab.research.google.com/github/srenna/RAGOpenAI/blob/main/RAG_with_OpenAI_and_Azure.ipynb\" target=\"_parent\"><img src=\"https://colab.research.google.com/assets/colab-badge.svg\" alt=\"Open In Colab\"/></a>"
      ]
    },
    {
      "cell_type": "code",
      "execution_count": 3,
      "metadata": {
        "id": "a8qLJu14BBGU",
        "colab": {
          "base_uri": "https://localhost:8080/"
        },
        "outputId": "6e7ed515-d3c5-49d1-85ba-d54006e4d47a"
      },
      "outputs": [
        {
          "output_type": "stream",
          "name": "stdout",
          "text": [
            "Drive already mounted at /content/drive/; to attempt to forcibly remount, call drive.mount(\"/content/drive/\", force_remount=True).\n"
          ]
        }
      ],
      "source": [
        "from google.colab import drive\n",
        "drive.mount('/content/drive/')"
      ]
    },
    {
      "cell_type": "code",
      "source": [
        "!pip install langchain --progress-bar off\n",
        "!pip install openai --progress-bar off\n",
        "!pip install tiktoken --progress-bar off\n",
        "!pip install faiss-gpu --progress-bar off\n",
        "!pip install langchain_experimental --progress-bar off\n",
        "!pip install \"langchain[docarray]\" --progress-bar off\n",
        "!pip install -qqq pypdf==3.15.0 --progress-bar off\n",
        "!pip install -U langchain-openai --progress-bar off"
      ],
      "metadata": {
        "id": "B0-NbtZiBIiv",
        "colab": {
          "base_uri": "https://localhost:8080/"
        },
        "outputId": "ff37d3ed-dc43-4a5b-b861-a9dfdc6bb7bd"
      },
      "execution_count": 4,
      "outputs": [
        {
          "output_type": "stream",
          "name": "stdout",
          "text": [
            "Collecting langchain\n",
            "  Downloading langchain-0.1.4-py3-none-any.whl (803 kB)\n",
            "Requirement already satisfied: PyYAML>=5.3 in /usr/local/lib/python3.10/dist-packages (from langchain) (6.0.1)\n",
            "Requirement already satisfied: SQLAlchemy<3,>=1.4 in /usr/local/lib/python3.10/dist-packages (from langchain) (2.0.24)\n",
            "Requirement already satisfied: aiohttp<4.0.0,>=3.8.3 in /usr/local/lib/python3.10/dist-packages (from langchain) (3.9.1)\n",
            "Requirement already satisfied: async-timeout<5.0.0,>=4.0.0 in /usr/local/lib/python3.10/dist-packages (from langchain) (4.0.3)\n",
            "Collecting dataclasses-json<0.7,>=0.5.7 (from langchain)\n",
            "  Downloading dataclasses_json-0.6.3-py3-none-any.whl (28 kB)\n",
            "Collecting jsonpatch<2.0,>=1.33 (from langchain)\n",
            "  Downloading jsonpatch-1.33-py2.py3-none-any.whl (12 kB)\n",
            "Collecting langchain-community<0.1,>=0.0.14 (from langchain)\n",
            "  Downloading langchain_community-0.0.16-py3-none-any.whl (1.6 MB)\n",
            "Collecting langchain-core<0.2,>=0.1.16 (from langchain)\n",
            "  Downloading langchain_core-0.1.16-py3-none-any.whl (230 kB)\n",
            "Collecting langsmith<0.1,>=0.0.83 (from langchain)\n",
            "  Downloading langsmith-0.0.83-py3-none-any.whl (49 kB)\n",
            "Requirement already satisfied: numpy<2,>=1 in /usr/local/lib/python3.10/dist-packages (from langchain) (1.23.5)\n",
            "Requirement already satisfied: pydantic<3,>=1 in /usr/local/lib/python3.10/dist-packages (from langchain) (1.10.14)\n",
            "Requirement already satisfied: requests<3,>=2 in /usr/local/lib/python3.10/dist-packages (from langchain) (2.31.0)\n",
            "Requirement already satisfied: tenacity<9.0.0,>=8.1.0 in /usr/local/lib/python3.10/dist-packages (from langchain) (8.2.3)\n",
            "Requirement already satisfied: attrs>=17.3.0 in /usr/local/lib/python3.10/dist-packages (from aiohttp<4.0.0,>=3.8.3->langchain) (23.2.0)\n",
            "Requirement already satisfied: multidict<7.0,>=4.5 in /usr/local/lib/python3.10/dist-packages (from aiohttp<4.0.0,>=3.8.3->langchain) (6.0.4)\n",
            "Requirement already satisfied: yarl<2.0,>=1.0 in /usr/local/lib/python3.10/dist-packages (from aiohttp<4.0.0,>=3.8.3->langchain) (1.9.4)\n",
            "Requirement already satisfied: frozenlist>=1.1.1 in /usr/local/lib/python3.10/dist-packages (from aiohttp<4.0.0,>=3.8.3->langchain) (1.4.1)\n",
            "Requirement already satisfied: aiosignal>=1.1.2 in /usr/local/lib/python3.10/dist-packages (from aiohttp<4.0.0,>=3.8.3->langchain) (1.3.1)\n",
            "Collecting marshmallow<4.0.0,>=3.18.0 (from dataclasses-json<0.7,>=0.5.7->langchain)\n",
            "  Downloading marshmallow-3.20.2-py3-none-any.whl (49 kB)\n",
            "Collecting typing-inspect<1,>=0.4.0 (from dataclasses-json<0.7,>=0.5.7->langchain)\n",
            "  Downloading typing_inspect-0.9.0-py3-none-any.whl (8.8 kB)\n",
            "Collecting jsonpointer>=1.9 (from jsonpatch<2.0,>=1.33->langchain)\n",
            "  Downloading jsonpointer-2.4-py2.py3-none-any.whl (7.8 kB)\n",
            "Requirement already satisfied: anyio<5,>=3 in /usr/local/lib/python3.10/dist-packages (from langchain-core<0.2,>=0.1.16->langchain) (3.7.1)\n",
            "Requirement already satisfied: packaging<24.0,>=23.2 in /usr/local/lib/python3.10/dist-packages (from langchain-core<0.2,>=0.1.16->langchain) (23.2)\n",
            "Requirement already satisfied: typing-extensions>=4.2.0 in /usr/local/lib/python3.10/dist-packages (from pydantic<3,>=1->langchain) (4.5.0)\n",
            "Requirement already satisfied: charset-normalizer<4,>=2 in /usr/local/lib/python3.10/dist-packages (from requests<3,>=2->langchain) (3.3.2)\n",
            "Requirement already satisfied: idna<4,>=2.5 in /usr/local/lib/python3.10/dist-packages (from requests<3,>=2->langchain) (3.6)\n",
            "Requirement already satisfied: urllib3<3,>=1.21.1 in /usr/local/lib/python3.10/dist-packages (from requests<3,>=2->langchain) (2.0.7)\n",
            "Requirement already satisfied: certifi>=2017.4.17 in /usr/local/lib/python3.10/dist-packages (from requests<3,>=2->langchain) (2023.11.17)\n",
            "Requirement already satisfied: greenlet!=0.4.17 in /usr/local/lib/python3.10/dist-packages (from SQLAlchemy<3,>=1.4->langchain) (3.0.3)\n",
            "Requirement already satisfied: sniffio>=1.1 in /usr/local/lib/python3.10/dist-packages (from anyio<5,>=3->langchain-core<0.2,>=0.1.16->langchain) (1.3.0)\n",
            "Requirement already satisfied: exceptiongroup in /usr/local/lib/python3.10/dist-packages (from anyio<5,>=3->langchain-core<0.2,>=0.1.16->langchain) (1.2.0)\n",
            "Collecting mypy-extensions>=0.3.0 (from typing-inspect<1,>=0.4.0->dataclasses-json<0.7,>=0.5.7->langchain)\n",
            "  Downloading mypy_extensions-1.0.0-py3-none-any.whl (4.7 kB)\n",
            "Installing collected packages: mypy-extensions, marshmallow, jsonpointer, typing-inspect, langsmith, jsonpatch, langchain-core, dataclasses-json, langchain-community, langchain\n",
            "Successfully installed dataclasses-json-0.6.3 jsonpatch-1.33 jsonpointer-2.4 langchain-0.1.4 langchain-community-0.0.16 langchain-core-0.1.16 langsmith-0.0.83 marshmallow-3.20.2 mypy-extensions-1.0.0 typing-inspect-0.9.0\n",
            "Collecting openai\n",
            "  Downloading openai-1.10.0-py3-none-any.whl (225 kB)\n",
            "Requirement already satisfied: anyio<5,>=3.5.0 in /usr/local/lib/python3.10/dist-packages (from openai) (3.7.1)\n",
            "Requirement already satisfied: distro<2,>=1.7.0 in /usr/lib/python3/dist-packages (from openai) (1.7.0)\n",
            "Collecting httpx<1,>=0.23.0 (from openai)\n",
            "  Downloading httpx-0.26.0-py3-none-any.whl (75 kB)\n",
            "Requirement already satisfied: pydantic<3,>=1.9.0 in /usr/local/lib/python3.10/dist-packages (from openai) (1.10.14)\n",
            "Requirement already satisfied: sniffio in /usr/local/lib/python3.10/dist-packages (from openai) (1.3.0)\n",
            "Requirement already satisfied: tqdm>4 in /usr/local/lib/python3.10/dist-packages (from openai) (4.66.1)\n",
            "Collecting typing-extensions<5,>=4.7 (from openai)\n",
            "  Downloading typing_extensions-4.9.0-py3-none-any.whl (32 kB)\n",
            "Requirement already satisfied: idna>=2.8 in /usr/local/lib/python3.10/dist-packages (from anyio<5,>=3.5.0->openai) (3.6)\n",
            "Requirement already satisfied: exceptiongroup in /usr/local/lib/python3.10/dist-packages (from anyio<5,>=3.5.0->openai) (1.2.0)\n",
            "Requirement already satisfied: certifi in /usr/local/lib/python3.10/dist-packages (from httpx<1,>=0.23.0->openai) (2023.11.17)\n",
            "Collecting httpcore==1.* (from httpx<1,>=0.23.0->openai)\n",
            "  Downloading httpcore-1.0.2-py3-none-any.whl (76 kB)\n",
            "Collecting h11<0.15,>=0.13 (from httpcore==1.*->httpx<1,>=0.23.0->openai)\n",
            "  Downloading h11-0.14.0-py3-none-any.whl (58 kB)\n",
            "Installing collected packages: typing-extensions, h11, httpcore, httpx, openai\n",
            "  Attempting uninstall: typing-extensions\n",
            "    Found existing installation: typing_extensions 4.5.0\n",
            "    Uninstalling typing_extensions-4.5.0:\n",
            "      Successfully uninstalled typing_extensions-4.5.0\n",
            "\u001b[31mERROR: pip's dependency resolver does not currently take into account all the packages that are installed. This behaviour is the source of the following dependency conflicts.\n",
            "llmx 0.0.15a0 requires cohere, which is not installed.\n",
            "llmx 0.0.15a0 requires tiktoken, which is not installed.\n",
            "tensorflow-probability 0.22.0 requires typing-extensions<4.6.0, but you have typing-extensions 4.9.0 which is incompatible.\u001b[0m\u001b[31m\n",
            "\u001b[0mSuccessfully installed h11-0.14.0 httpcore-1.0.2 httpx-0.26.0 openai-1.10.0 typing-extensions-4.9.0\n",
            "Collecting tiktoken\n",
            "  Downloading tiktoken-0.5.2-cp310-cp310-manylinux_2_17_x86_64.manylinux2014_x86_64.whl (2.0 MB)\n",
            "Requirement already satisfied: regex>=2022.1.18 in /usr/local/lib/python3.10/dist-packages (from tiktoken) (2023.6.3)\n",
            "Requirement already satisfied: requests>=2.26.0 in /usr/local/lib/python3.10/dist-packages (from tiktoken) (2.31.0)\n",
            "Requirement already satisfied: charset-normalizer<4,>=2 in /usr/local/lib/python3.10/dist-packages (from requests>=2.26.0->tiktoken) (3.3.2)\n",
            "Requirement already satisfied: idna<4,>=2.5 in /usr/local/lib/python3.10/dist-packages (from requests>=2.26.0->tiktoken) (3.6)\n",
            "Requirement already satisfied: urllib3<3,>=1.21.1 in /usr/local/lib/python3.10/dist-packages (from requests>=2.26.0->tiktoken) (2.0.7)\n",
            "Requirement already satisfied: certifi>=2017.4.17 in /usr/local/lib/python3.10/dist-packages (from requests>=2.26.0->tiktoken) (2023.11.17)\n",
            "Installing collected packages: tiktoken\n",
            "\u001b[31mERROR: pip's dependency resolver does not currently take into account all the packages that are installed. This behaviour is the source of the following dependency conflicts.\n",
            "llmx 0.0.15a0 requires cohere, which is not installed.\u001b[0m\u001b[31m\n",
            "\u001b[0mSuccessfully installed tiktoken-0.5.2\n",
            "Collecting faiss-gpu\n",
            "  Downloading faiss_gpu-1.7.2-cp310-cp310-manylinux_2_17_x86_64.manylinux2014_x86_64.whl (85.5 MB)\n",
            "Installing collected packages: faiss-gpu\n",
            "Successfully installed faiss-gpu-1.7.2\n",
            "Collecting langchain_experimental\n",
            "  Downloading langchain_experimental-0.0.49-py3-none-any.whl (165 kB)\n",
            "Requirement already satisfied: langchain<0.2,>=0.1 in /usr/local/lib/python3.10/dist-packages (from langchain_experimental) (0.1.4)\n",
            "Requirement already satisfied: langchain-core<0.2.0,>=0.1.7 in /usr/local/lib/python3.10/dist-packages (from langchain_experimental) (0.1.16)\n",
            "Requirement already satisfied: PyYAML>=5.3 in /usr/local/lib/python3.10/dist-packages (from langchain<0.2,>=0.1->langchain_experimental) (6.0.1)\n",
            "Requirement already satisfied: SQLAlchemy<3,>=1.4 in /usr/local/lib/python3.10/dist-packages (from langchain<0.2,>=0.1->langchain_experimental) (2.0.24)\n",
            "Requirement already satisfied: aiohttp<4.0.0,>=3.8.3 in /usr/local/lib/python3.10/dist-packages (from langchain<0.2,>=0.1->langchain_experimental) (3.9.1)\n",
            "Requirement already satisfied: async-timeout<5.0.0,>=4.0.0 in /usr/local/lib/python3.10/dist-packages (from langchain<0.2,>=0.1->langchain_experimental) (4.0.3)\n",
            "Requirement already satisfied: dataclasses-json<0.7,>=0.5.7 in /usr/local/lib/python3.10/dist-packages (from langchain<0.2,>=0.1->langchain_experimental) (0.6.3)\n",
            "Requirement already satisfied: jsonpatch<2.0,>=1.33 in /usr/local/lib/python3.10/dist-packages (from langchain<0.2,>=0.1->langchain_experimental) (1.33)\n",
            "Requirement already satisfied: langchain-community<0.1,>=0.0.14 in /usr/local/lib/python3.10/dist-packages (from langchain<0.2,>=0.1->langchain_experimental) (0.0.16)\n",
            "Requirement already satisfied: langsmith<0.1,>=0.0.83 in /usr/local/lib/python3.10/dist-packages (from langchain<0.2,>=0.1->langchain_experimental) (0.0.83)\n",
            "Requirement already satisfied: numpy<2,>=1 in /usr/local/lib/python3.10/dist-packages (from langchain<0.2,>=0.1->langchain_experimental) (1.23.5)\n",
            "Requirement already satisfied: pydantic<3,>=1 in /usr/local/lib/python3.10/dist-packages (from langchain<0.2,>=0.1->langchain_experimental) (1.10.14)\n",
            "Requirement already satisfied: requests<3,>=2 in /usr/local/lib/python3.10/dist-packages (from langchain<0.2,>=0.1->langchain_experimental) (2.31.0)\n",
            "Requirement already satisfied: tenacity<9.0.0,>=8.1.0 in /usr/local/lib/python3.10/dist-packages (from langchain<0.2,>=0.1->langchain_experimental) (8.2.3)\n",
            "Requirement already satisfied: anyio<5,>=3 in /usr/local/lib/python3.10/dist-packages (from langchain-core<0.2.0,>=0.1.7->langchain_experimental) (3.7.1)\n",
            "Requirement already satisfied: packaging<24.0,>=23.2 in /usr/local/lib/python3.10/dist-packages (from langchain-core<0.2.0,>=0.1.7->langchain_experimental) (23.2)\n",
            "Requirement already satisfied: attrs>=17.3.0 in /usr/local/lib/python3.10/dist-packages (from aiohttp<4.0.0,>=3.8.3->langchain<0.2,>=0.1->langchain_experimental) (23.2.0)\n",
            "Requirement already satisfied: multidict<7.0,>=4.5 in /usr/local/lib/python3.10/dist-packages (from aiohttp<4.0.0,>=3.8.3->langchain<0.2,>=0.1->langchain_experimental) (6.0.4)\n",
            "Requirement already satisfied: yarl<2.0,>=1.0 in /usr/local/lib/python3.10/dist-packages (from aiohttp<4.0.0,>=3.8.3->langchain<0.2,>=0.1->langchain_experimental) (1.9.4)\n",
            "Requirement already satisfied: frozenlist>=1.1.1 in /usr/local/lib/python3.10/dist-packages (from aiohttp<4.0.0,>=3.8.3->langchain<0.2,>=0.1->langchain_experimental) (1.4.1)\n",
            "Requirement already satisfied: aiosignal>=1.1.2 in /usr/local/lib/python3.10/dist-packages (from aiohttp<4.0.0,>=3.8.3->langchain<0.2,>=0.1->langchain_experimental) (1.3.1)\n",
            "Requirement already satisfied: idna>=2.8 in /usr/local/lib/python3.10/dist-packages (from anyio<5,>=3->langchain-core<0.2.0,>=0.1.7->langchain_experimental) (3.6)\n",
            "Requirement already satisfied: sniffio>=1.1 in /usr/local/lib/python3.10/dist-packages (from anyio<5,>=3->langchain-core<0.2.0,>=0.1.7->langchain_experimental) (1.3.0)\n",
            "Requirement already satisfied: exceptiongroup in /usr/local/lib/python3.10/dist-packages (from anyio<5,>=3->langchain-core<0.2.0,>=0.1.7->langchain_experimental) (1.2.0)\n",
            "Requirement already satisfied: marshmallow<4.0.0,>=3.18.0 in /usr/local/lib/python3.10/dist-packages (from dataclasses-json<0.7,>=0.5.7->langchain<0.2,>=0.1->langchain_experimental) (3.20.2)\n",
            "Requirement already satisfied: typing-inspect<1,>=0.4.0 in /usr/local/lib/python3.10/dist-packages (from dataclasses-json<0.7,>=0.5.7->langchain<0.2,>=0.1->langchain_experimental) (0.9.0)\n",
            "Requirement already satisfied: jsonpointer>=1.9 in /usr/local/lib/python3.10/dist-packages (from jsonpatch<2.0,>=1.33->langchain<0.2,>=0.1->langchain_experimental) (2.4)\n",
            "Requirement already satisfied: typing-extensions>=4.2.0 in /usr/local/lib/python3.10/dist-packages (from pydantic<3,>=1->langchain<0.2,>=0.1->langchain_experimental) (4.9.0)\n",
            "Requirement already satisfied: charset-normalizer<4,>=2 in /usr/local/lib/python3.10/dist-packages (from requests<3,>=2->langchain<0.2,>=0.1->langchain_experimental) (3.3.2)\n",
            "Requirement already satisfied: urllib3<3,>=1.21.1 in /usr/local/lib/python3.10/dist-packages (from requests<3,>=2->langchain<0.2,>=0.1->langchain_experimental) (2.0.7)\n",
            "Requirement already satisfied: certifi>=2017.4.17 in /usr/local/lib/python3.10/dist-packages (from requests<3,>=2->langchain<0.2,>=0.1->langchain_experimental) (2023.11.17)\n",
            "Requirement already satisfied: greenlet!=0.4.17 in /usr/local/lib/python3.10/dist-packages (from SQLAlchemy<3,>=1.4->langchain<0.2,>=0.1->langchain_experimental) (3.0.3)\n",
            "Requirement already satisfied: mypy-extensions>=0.3.0 in /usr/local/lib/python3.10/dist-packages (from typing-inspect<1,>=0.4.0->dataclasses-json<0.7,>=0.5.7->langchain<0.2,>=0.1->langchain_experimental) (1.0.0)\n",
            "Installing collected packages: langchain_experimental\n",
            "Successfully installed langchain_experimental-0.0.49\n",
            "Requirement already satisfied: langchain[docarray] in /usr/local/lib/python3.10/dist-packages (0.1.4)\n",
            "Requirement already satisfied: PyYAML>=5.3 in /usr/local/lib/python3.10/dist-packages (from langchain[docarray]) (6.0.1)\n",
            "Requirement already satisfied: SQLAlchemy<3,>=1.4 in /usr/local/lib/python3.10/dist-packages (from langchain[docarray]) (2.0.24)\n",
            "Requirement already satisfied: aiohttp<4.0.0,>=3.8.3 in /usr/local/lib/python3.10/dist-packages (from langchain[docarray]) (3.9.1)\n",
            "Requirement already satisfied: async-timeout<5.0.0,>=4.0.0 in /usr/local/lib/python3.10/dist-packages (from langchain[docarray]) (4.0.3)\n",
            "Requirement already satisfied: dataclasses-json<0.7,>=0.5.7 in /usr/local/lib/python3.10/dist-packages (from langchain[docarray]) (0.6.3)\n",
            "Requirement already satisfied: jsonpatch<2.0,>=1.33 in /usr/local/lib/python3.10/dist-packages (from langchain[docarray]) (1.33)\n",
            "Requirement already satisfied: langchain-community<0.1,>=0.0.14 in /usr/local/lib/python3.10/dist-packages (from langchain[docarray]) (0.0.16)\n",
            "Requirement already satisfied: langchain-core<0.2,>=0.1.16 in /usr/local/lib/python3.10/dist-packages (from langchain[docarray]) (0.1.16)\n",
            "Requirement already satisfied: langsmith<0.1,>=0.0.83 in /usr/local/lib/python3.10/dist-packages (from langchain[docarray]) (0.0.83)\n",
            "Requirement already satisfied: numpy<2,>=1 in /usr/local/lib/python3.10/dist-packages (from langchain[docarray]) (1.23.5)\n",
            "Requirement already satisfied: pydantic<3,>=1 in /usr/local/lib/python3.10/dist-packages (from langchain[docarray]) (1.10.14)\n",
            "Requirement already satisfied: requests<3,>=2 in /usr/local/lib/python3.10/dist-packages (from langchain[docarray]) (2.31.0)\n",
            "Requirement already satisfied: tenacity<9.0.0,>=8.1.0 in /usr/local/lib/python3.10/dist-packages (from langchain[docarray]) (8.2.3)\n",
            "Collecting docarray[hnswlib]<0.33.0,>=0.32.0 (from langchain[docarray])\n",
            "  Downloading docarray-0.32.1-py3-none-any.whl (215 kB)\n",
            "Requirement already satisfied: attrs>=17.3.0 in /usr/local/lib/python3.10/dist-packages (from aiohttp<4.0.0,>=3.8.3->langchain[docarray]) (23.2.0)\n",
            "Requirement already satisfied: multidict<7.0,>=4.5 in /usr/local/lib/python3.10/dist-packages (from aiohttp<4.0.0,>=3.8.3->langchain[docarray]) (6.0.4)\n",
            "Requirement already satisfied: yarl<2.0,>=1.0 in /usr/local/lib/python3.10/dist-packages (from aiohttp<4.0.0,>=3.8.3->langchain[docarray]) (1.9.4)\n",
            "Requirement already satisfied: frozenlist>=1.1.1 in /usr/local/lib/python3.10/dist-packages (from aiohttp<4.0.0,>=3.8.3->langchain[docarray]) (1.4.1)\n",
            "Requirement already satisfied: aiosignal>=1.1.2 in /usr/local/lib/python3.10/dist-packages (from aiohttp<4.0.0,>=3.8.3->langchain[docarray]) (1.3.1)\n",
            "Requirement already satisfied: marshmallow<4.0.0,>=3.18.0 in /usr/local/lib/python3.10/dist-packages (from dataclasses-json<0.7,>=0.5.7->langchain[docarray]) (3.20.2)\n",
            "Requirement already satisfied: typing-inspect<1,>=0.4.0 in /usr/local/lib/python3.10/dist-packages (from dataclasses-json<0.7,>=0.5.7->langchain[docarray]) (0.9.0)\n",
            "Collecting orjson>=3.8.2 (from docarray[hnswlib]<0.33.0,>=0.32.0->langchain[docarray])\n",
            "  Downloading orjson-3.9.12-cp310-cp310-manylinux_2_17_x86_64.manylinux2014_x86_64.whl (139 kB)\n",
            "Requirement already satisfied: rich>=13.1.0 in /usr/local/lib/python3.10/dist-packages (from docarray[hnswlib]<0.33.0,>=0.32.0->langchain[docarray]) (13.7.0)\n",
            "Collecting types-requests>=2.28.11.6 (from docarray[hnswlib]<0.33.0,>=0.32.0->langchain[docarray])\n",
            "  Downloading types_requests-2.31.0.20240125-py3-none-any.whl (14 kB)\n",
            "Collecting hnswlib>=0.6.2 (from docarray[hnswlib]<0.33.0,>=0.32.0->langchain[docarray])\n",
            "  Downloading hnswlib-0.8.0.tar.gz (36 kB)\n",
            "  Installing build dependencies ... \u001b[?25l\u001b[?25hdone\n",
            "  Getting requirements to build wheel ... \u001b[?25l\u001b[?25hdone\n",
            "  Preparing metadata (pyproject.toml) ... \u001b[?25l\u001b[?25hdone\n",
            "Requirement already satisfied: protobuf>=3.19.0 in /usr/local/lib/python3.10/dist-packages (from docarray[hnswlib]<0.33.0,>=0.32.0->langchain[docarray]) (3.20.3)\n",
            "Requirement already satisfied: jsonpointer>=1.9 in /usr/local/lib/python3.10/dist-packages (from jsonpatch<2.0,>=1.33->langchain[docarray]) (2.4)\n",
            "Requirement already satisfied: anyio<5,>=3 in /usr/local/lib/python3.10/dist-packages (from langchain-core<0.2,>=0.1.16->langchain[docarray]) (3.7.1)\n",
            "Requirement already satisfied: packaging<24.0,>=23.2 in /usr/local/lib/python3.10/dist-packages (from langchain-core<0.2,>=0.1.16->langchain[docarray]) (23.2)\n",
            "Requirement already satisfied: typing-extensions>=4.2.0 in /usr/local/lib/python3.10/dist-packages (from pydantic<3,>=1->langchain[docarray]) (4.9.0)\n",
            "Requirement already satisfied: charset-normalizer<4,>=2 in /usr/local/lib/python3.10/dist-packages (from requests<3,>=2->langchain[docarray]) (3.3.2)\n",
            "Requirement already satisfied: idna<4,>=2.5 in /usr/local/lib/python3.10/dist-packages (from requests<3,>=2->langchain[docarray]) (3.6)\n",
            "Requirement already satisfied: urllib3<3,>=1.21.1 in /usr/local/lib/python3.10/dist-packages (from requests<3,>=2->langchain[docarray]) (2.0.7)\n",
            "Requirement already satisfied: certifi>=2017.4.17 in /usr/local/lib/python3.10/dist-packages (from requests<3,>=2->langchain[docarray]) (2023.11.17)\n",
            "Requirement already satisfied: greenlet!=0.4.17 in /usr/local/lib/python3.10/dist-packages (from SQLAlchemy<3,>=1.4->langchain[docarray]) (3.0.3)\n",
            "Requirement already satisfied: sniffio>=1.1 in /usr/local/lib/python3.10/dist-packages (from anyio<5,>=3->langchain-core<0.2,>=0.1.16->langchain[docarray]) (1.3.0)\n",
            "Requirement already satisfied: exceptiongroup in /usr/local/lib/python3.10/dist-packages (from anyio<5,>=3->langchain-core<0.2,>=0.1.16->langchain[docarray]) (1.2.0)\n",
            "Requirement already satisfied: markdown-it-py>=2.2.0 in /usr/local/lib/python3.10/dist-packages (from rich>=13.1.0->docarray[hnswlib]<0.33.0,>=0.32.0->langchain[docarray]) (3.0.0)\n",
            "Requirement already satisfied: pygments<3.0.0,>=2.13.0 in /usr/local/lib/python3.10/dist-packages (from rich>=13.1.0->docarray[hnswlib]<0.33.0,>=0.32.0->langchain[docarray]) (2.16.1)\n",
            "Requirement already satisfied: mypy-extensions>=0.3.0 in /usr/local/lib/python3.10/dist-packages (from typing-inspect<1,>=0.4.0->dataclasses-json<0.7,>=0.5.7->langchain[docarray]) (1.0.0)\n",
            "Requirement already satisfied: mdurl~=0.1 in /usr/local/lib/python3.10/dist-packages (from markdown-it-py>=2.2.0->rich>=13.1.0->docarray[hnswlib]<0.33.0,>=0.32.0->langchain[docarray]) (0.1.2)\n",
            "Building wheels for collected packages: hnswlib\n",
            "  Building wheel for hnswlib (pyproject.toml) ... \u001b[?25l\u001b[?25hdone\n",
            "  Created wheel for hnswlib: filename=hnswlib-0.8.0-cp310-cp310-linux_x86_64.whl size=2287669 sha256=a517080d963ef4763c1680c818e0701578e441b353186d55d1151e637aaea668\n",
            "  Stored in directory: /root/.cache/pip/wheels/af/a9/3e/3e5d59ee41664eb31a4e6de67d1846f86d16d93c45f277c4e7\n",
            "Successfully built hnswlib\n",
            "Installing collected packages: types-requests, orjson, hnswlib, docarray\n",
            "Successfully installed docarray-0.32.1 hnswlib-0.8.0 orjson-3.9.12 types-requests-2.31.0.20240125\n",
            "Collecting langchain-openai\n",
            "  Downloading langchain_openai-0.0.5-py3-none-any.whl (29 kB)\n",
            "Requirement already satisfied: langchain-core<0.2,>=0.1.16 in /usr/local/lib/python3.10/dist-packages (from langchain-openai) (0.1.16)\n",
            "Requirement already satisfied: numpy<2,>=1 in /usr/local/lib/python3.10/dist-packages (from langchain-openai) (1.23.5)\n",
            "Requirement already satisfied: openai<2.0.0,>=1.10.0 in /usr/local/lib/python3.10/dist-packages (from langchain-openai) (1.10.0)\n",
            "Requirement already satisfied: tiktoken<0.6.0,>=0.5.2 in /usr/local/lib/python3.10/dist-packages (from langchain-openai) (0.5.2)\n",
            "Requirement already satisfied: PyYAML>=5.3 in /usr/local/lib/python3.10/dist-packages (from langchain-core<0.2,>=0.1.16->langchain-openai) (6.0.1)\n",
            "Requirement already satisfied: anyio<5,>=3 in /usr/local/lib/python3.10/dist-packages (from langchain-core<0.2,>=0.1.16->langchain-openai) (3.7.1)\n",
            "Requirement already satisfied: jsonpatch<2.0,>=1.33 in /usr/local/lib/python3.10/dist-packages (from langchain-core<0.2,>=0.1.16->langchain-openai) (1.33)\n",
            "Requirement already satisfied: langsmith<0.1,>=0.0.83 in /usr/local/lib/python3.10/dist-packages (from langchain-core<0.2,>=0.1.16->langchain-openai) (0.0.83)\n",
            "Requirement already satisfied: packaging<24.0,>=23.2 in /usr/local/lib/python3.10/dist-packages (from langchain-core<0.2,>=0.1.16->langchain-openai) (23.2)\n",
            "Requirement already satisfied: pydantic<3,>=1 in /usr/local/lib/python3.10/dist-packages (from langchain-core<0.2,>=0.1.16->langchain-openai) (1.10.14)\n",
            "Requirement already satisfied: requests<3,>=2 in /usr/local/lib/python3.10/dist-packages (from langchain-core<0.2,>=0.1.16->langchain-openai) (2.31.0)\n",
            "Requirement already satisfied: tenacity<9.0.0,>=8.1.0 in /usr/local/lib/python3.10/dist-packages (from langchain-core<0.2,>=0.1.16->langchain-openai) (8.2.3)\n",
            "Requirement already satisfied: distro<2,>=1.7.0 in /usr/lib/python3/dist-packages (from openai<2.0.0,>=1.10.0->langchain-openai) (1.7.0)\n",
            "Requirement already satisfied: httpx<1,>=0.23.0 in /usr/local/lib/python3.10/dist-packages (from openai<2.0.0,>=1.10.0->langchain-openai) (0.26.0)\n",
            "Requirement already satisfied: sniffio in /usr/local/lib/python3.10/dist-packages (from openai<2.0.0,>=1.10.0->langchain-openai) (1.3.0)\n",
            "Requirement already satisfied: tqdm>4 in /usr/local/lib/python3.10/dist-packages (from openai<2.0.0,>=1.10.0->langchain-openai) (4.66.1)\n",
            "Requirement already satisfied: typing-extensions<5,>=4.7 in /usr/local/lib/python3.10/dist-packages (from openai<2.0.0,>=1.10.0->langchain-openai) (4.9.0)\n",
            "Requirement already satisfied: regex>=2022.1.18 in /usr/local/lib/python3.10/dist-packages (from tiktoken<0.6.0,>=0.5.2->langchain-openai) (2023.6.3)\n",
            "Requirement already satisfied: idna>=2.8 in /usr/local/lib/python3.10/dist-packages (from anyio<5,>=3->langchain-core<0.2,>=0.1.16->langchain-openai) (3.6)\n",
            "Requirement already satisfied: exceptiongroup in /usr/local/lib/python3.10/dist-packages (from anyio<5,>=3->langchain-core<0.2,>=0.1.16->langchain-openai) (1.2.0)\n",
            "Requirement already satisfied: certifi in /usr/local/lib/python3.10/dist-packages (from httpx<1,>=0.23.0->openai<2.0.0,>=1.10.0->langchain-openai) (2023.11.17)\n",
            "Requirement already satisfied: httpcore==1.* in /usr/local/lib/python3.10/dist-packages (from httpx<1,>=0.23.0->openai<2.0.0,>=1.10.0->langchain-openai) (1.0.2)\n",
            "Requirement already satisfied: h11<0.15,>=0.13 in /usr/local/lib/python3.10/dist-packages (from httpcore==1.*->httpx<1,>=0.23.0->openai<2.0.0,>=1.10.0->langchain-openai) (0.14.0)\n",
            "Requirement already satisfied: jsonpointer>=1.9 in /usr/local/lib/python3.10/dist-packages (from jsonpatch<2.0,>=1.33->langchain-core<0.2,>=0.1.16->langchain-openai) (2.4)\n",
            "Requirement already satisfied: charset-normalizer<4,>=2 in /usr/local/lib/python3.10/dist-packages (from requests<3,>=2->langchain-core<0.2,>=0.1.16->langchain-openai) (3.3.2)\n",
            "Requirement already satisfied: urllib3<3,>=1.21.1 in /usr/local/lib/python3.10/dist-packages (from requests<3,>=2->langchain-core<0.2,>=0.1.16->langchain-openai) (2.0.7)\n",
            "Installing collected packages: langchain-openai\n",
            "Successfully installed langchain-openai-0.0.5\n"
          ]
        }
      ]
    },
    {
      "cell_type": "code",
      "source": [
        "from langchain.chains import RetrievalQA\n",
        "# from langchain.chat_models import ChatOpenAI\n",
        "from langchain.document_loaders import TextLoader\n",
        "from langchain.vectorstores import DocArrayInMemorySearch\n",
        "from IPython.display import display, Markdown\n",
        "from langchain.text_splitter import CharacterTextSplitter\n",
        "from langchain.embeddings import OpenAIEmbeddings, HuggingFaceInstructEmbeddings\n",
        "from langchain.vectorstores import FAISS\n",
        "from langchain.memory import ConversationBufferMemory\n",
        "from langchain.chains import ConversationalRetrievalChain\n",
        "from langchain.indexes import VectorstoreIndexCreator\n",
        "from langchain_experimental.agents.agent_toolkits.csv.base import create_csv_agent\n",
        "from langchain.agents.agent_types import AgentType\n",
        "from langchain.memory import ConversationBufferMemory\n",
        "import tiktoken\n",
        "from langchain_openai import ChatOpenAI\n",
        "import os\n",
        "import re\n",
        "from langchain.text_splitter import CharacterTextSplitter\n",
        "from langchain.document_loaders import PyPDFDirectoryLoader\n",
        "from langchain.chat_models import AzureChatOpenAI\n",
        "import openai"
      ],
      "metadata": {
        "id": "1s--mfl-BJ5A"
      },
      "execution_count": 5,
      "outputs": []
    },
    {
      "cell_type": "code",
      "source": [
        "# Prompt the user for their OpenAI API key\n",
        "api_key = input(\"Please enter your OpenAI API key: \")\n",
        "\n",
        "# Set the API key as an environment variable\n",
        "os.environ[\"OPENAI_API_KEY\"] = api_key\n",
        "\n",
        "# Optionally, check that the environment variable was set correctly\n",
        "print(\"OPENAI_API_KEY has been set!\")\n"
      ],
      "metadata": {
        "id": "wb30MdMQBJ7p"
      },
      "execution_count": null,
      "outputs": []
    },
    {
      "cell_type": "code",
      "source": [
        "llm_model = \"gpt-4.0-turbo\""
      ],
      "metadata": {
        "id": "Po02l81lBJ91"
      },
      "execution_count": 7,
      "outputs": []
    },
    {
      "cell_type": "code",
      "source": [
        "# load the directory\n",
        "pdf_file_path = '/content/drive/MyDrive/POVs/Test PDF'\n",
        "loader = PyPDFDirectoryLoader(pdf_file_path)\n",
        "data = loader.load()\n",
        "\n",
        "print(len(data))\n",
        "# chunk the data\n",
        "text_splitter = CharacterTextSplitter(chunk_size=1000, chunk_overlap=200)\n",
        "data = text_splitter.split_documents(data)"
      ],
      "metadata": {
        "id": "rtsMFbg_BP93",
        "colab": {
          "base_uri": "https://localhost:8080/"
        },
        "outputId": "4c5a5ddc-4db6-457e-8aca-5cd052af6f0b"
      },
      "execution_count": 8,
      "outputs": [
        {
          "output_type": "stream",
          "name": "stdout",
          "text": [
            "16\n"
          ]
        }
      ]
    },
    {
      "cell_type": "code",
      "source": [
        "# preview some data\n",
        "data"
      ],
      "metadata": {
        "id": "Dg51KX1UE0Gm",
        "colab": {
          "base_uri": "https://localhost:8080/"
        },
        "outputId": "df19539b-5c4f-4f12-9b08-22b874c0b18b"
      },
      "execution_count": 9,
      "outputs": [
        {
          "output_type": "execute_result",
          "data": {
            "text/plain": [
              "[Document(page_content='An integrated approach to \\ncombat cyber risk\\nSecuring industrial operations \\nin\\xa0oil and gas', metadata={'source': '/content/drive/MyDrive/POVs/Test PDF/intergrated-approach-combat-cyber-risk-oil-gas.pdf', 'page': 0}),\n",
              " Document(page_content='ContentsForeword  1\\nIntroduction  2\\nUnderstanding the risks  4\\nConduct a\\xa0maturity assessment  6\\nBuild a\\xa0unified program  8\\nImplement key controls  9\\nEmbrace good governance  10\\nConclusion  11\\nContact us  12', metadata={'source': '/content/drive/MyDrive/POVs/Test PDF/intergrated-approach-combat-cyber-risk-oil-gas.pdf', 'page': 1}),\n",
              " Document(page_content='Foreword\\nThe oil and gas industry is moving into the \\nnext stage of evolution, whereby robotics, \\ndigitization, and the Internet of Things \\n(IoT) are rapidly being integrated into the \\noperational environment. The\\xa0interest of \\ncyber criminals in industrial operations has \\nincreased over the last decade resulting in \\ncyberattacks that have compromised both \\nproduction and safety. These\\xa0attacks have \\nmade cyber security a\\xa0hot discussion topic \\nin boardrooms around the world, and now, \\na\\xa0growing number of organizations are \\ndeveloping large transformation programs \\nto address these new operational threats.\\nHowever, making operational processes \\nsecure, vigilant and resilient is a\\xa0challenge \\nas this requires the organization to \\nharmonize and align two cultures, \\nengineering and IT. In\\xa0addition, the \\noperations environment demands tailored \\ntechnical solutions that are not always easy \\nto secure.Solving these challenges requires a\\xa0clear \\nunderstanding of both the engineering \\nand IT disciplines as well as leading \\nsector‑specific cyber security practices. \\nThis\\xa0paper shares the insight gained from \\nour extensive field experience, including \\nlessons learned in helping oil and gas \\ncompanies to go beyond safety in securing \\ntheir industrial control systems (ICS). \\nWe\\xa0hope you find this\\xa0report to be both \\nthought provoking and useful.\\nRegards,\\nPaul Zonneveld\\nGlobal Energy & Resources\\nRisk Advisory Leader\\nDeloitte Canada\\nThis\\xa0paper shares the insight gained \\nfrom\\xa0our extensive field experience, \\nincluding lessons learned in helping \\noil\\xa0and gas companies to go beyond \\nsafety in securing their industrial \\ncontrol\\xa0systems (ICS).\\n1An integrated approach to combat cyber risk  | Securing industrial operations in\\xa0oil and gas', metadata={'source': '/content/drive/MyDrive/POVs/Test PDF/intergrated-approach-combat-cyber-risk-oil-gas.pdf', 'page': 2}),\n",
              " Document(page_content='Critical infrastructure relies on industrial \\ncontrol systems (ICS) to maintain safe \\nand reliable operations. Engineers\\xa0have \\nsuccessfully designed and deployed ICS \\nwith safety and reliability in mind, but not \\nalways security. Why? Originally, there was \\nlittle need for it. Fit‑for‑purpose, isolated \\noperational systems were the order of the \\nday. Since\\xa0these operational systems were \\nnot integrated to enterprise systems or \\neven to each other, the risk of a\\xa0large‑scale \\ncascading failure due to an attack, cyber or \\notherwise, was extremely isolated.\\nFast forward 20\\xa0years, and the ubiquitous \\nconnectivity of the Internet of Things (IoT) \\nhas turned the most basic assumptions \\nabout operational security upside down. \\nToday,\\xa0all sorts of industrial facilities, \\nincluding oil fields, pipelines and \\nrefineries, are vulnerable to cyber attacks. \\nRegardless\\xa0of their location, operational \\nsystems can now be compromised by \\nexternal or internal risks, causing safety \\nor production failures and increasing \\ncommercial risk. Although\\xa0ICS are typically \\ndesigned to fail safe, the increasing \\nsophistication of cyber criminals heightens \\nthe risk of catastrophic incidents, along \\nwith the magnitude of the impacts in terms \\nof cost, safety, reputation, and commercial \\nor financial losses.Like other industries, the oil and gas \\nsector has been working to improve cyber \\nsecurity, which is a\\xa0priority concern among \\nsenior leadership and boards of directors. \\nWhile the industry has escaped a\\xa0major \\noperational catastrophe thus far, this good \\nfortune may not last unless companies \\nexpand their cyber security programs. \\nTo\\xa0date, oil and gas companies have been \\nprimarily focused on protecting corporate, \\nas opposed to operational, systems \\nand data. That’s because IoT—where \\nproduction can be controlled from an \\niPad or a\\xa0smart phone, for instance—is \\nrelatively new, gaining momentum over the \\nlast decade. Also, operational systems are \\ninherently different, requiring engineering \\nknow‑how, and not just IT expertise, in \\norder to secure them appropriately.\\nToday, an approach that brings together \\nIT and engineering is needed to address \\ncyber security programmatically and \\nsustainably. The\\xa0following discusses \\nthe goals of such an approach as well \\nas practical steps for getting started. \\nFirst,\\xa0let’s take a\\xa0closer look at the types of \\ncyber risks facing the oil and gas industry, \\nhow they can disrupt the value chain, and \\nwhat the consequences could be.\\n While the industry \\nhas escaped a\\xa0major \\noperational catastrophe \\nthus far, this good fortune \\nmay not last unless \\ncompanies expand their \\ncyber security programs.Introduction\\n2An integrated approach to combat cyber risk  | Securing industrial operations in\\xa0oil and gas', metadata={'source': '/content/drive/MyDrive/POVs/Test PDF/intergrated-approach-combat-cyber-risk-oil-gas.pdf', 'page': 3}),\n",
              " Document(page_content='Figure 1. How\\xa0cyber threats impact  \\nthe oil and gas value chain\\nDownstream\\n •Processing of crude oil into petroleum \\nproducts\\n •Product blending •Retailing\\n •Trading\\nDownstream scenario #1:  \\nTheft of inventory data on crude oil and \\nrefined products\\nRisk:  Failure to meet business commitments \\nand reputation damageDownstream scenario #2:  \\nInterruption or tampering with operational \\ncontrols\\nRisk:  Unsafe operating conditions and \\ndowntime, leading to supply disruption and \\nrevenue lossRefining Marketing\\nMidstream\\n •Gathering and transporting—pipelines, tankers, trucks\\nMidstream scenario #1:  \\nUnauthorized access to and manipulation of \\npipelines systems\\nRisk:  Explosion, spillage, environmental, \\ndamage, and unsafe conditions for personnel \\nand adjacent populationsMidstream scenario #2:  \\nMonitoring is distorted or interrupted, thus \\ncompromising equipment integrity\\nRisk: Shutdown of system for investigation, \\nresulting in missed shipments and financial \\nlossTransportationUpstream\\nUpstream scenario #1:  \\nMisappropriation of commercially sensitive \\nreservoir performance and well\\xa0data\\nRisk:  Damage to the operator’s competitive \\nposition in a\\xa0play or field •Geophysical evaluation and\\xa0design\\n •Field development\\n •Drilling operations •Bringing the oil to the\\xa0surface\\nUpstream scenario #2:  \\nKey well‑control and safety equipment is \\npushed outside normal operating parameters \\nor shut down completely\\nRisk:  Operational shutdown and  \\nfinancial loss, as well as field safety incidents, \\ndue to equipment malfunction\\nExploration ProductionCyber threat\\n3An integrated approach to combat cyber risk  | Securing industrial operations in\\xa0oil and gas', metadata={'source': '/content/drive/MyDrive/POVs/Test PDF/intergrated-approach-combat-cyber-risk-oil-gas.pdf', 'page': 4}),\n",
              " Document(page_content='Understanding the risks\\nOne of the main factors that makes it so \\ndifficult to secure ICS is that they were not \\ndesigned to be connected; yet, today they \\nare networked. Digitization\\xa0of operational \\nprocesses in the oil and gas industry \\nhas led to new opportunities to improve \\nproductivity and to drive down costs. \\nHowever,\\xa0the convergence of operational \\nand business systems has also opened the \\nenterprise to a\\xa0whole new array of cyber \\nrisks. Consider\\xa0the following scenarios, the \\npossibility of which didn’t exist a\\xa0few years \\nago:\\n •Insecure remote access communication \\nallows a\\xa0cyber criminal to hijack a\\xa0process \\ncontrol system and push production to \\nunsafe levels.\\n •Poor security practices by a\\xa0third‑party \\ncontractor allow a\\xa0virus to migrate into \\nthe production environment, shutting \\ndown critical Supervisory Control and \\nData Acquisition (SCADA) systems and \\ncreating unsafe working conditions.\\n •Improper testing of IT systems prior to \\ndeployment results in a\\xa0system crash, \\nleading to disruption or shutdown of \\noperations.\\n •Technology acquired directly by a facility, \\nwithout adequate testing and evaluation, \\ngoes unpatched and introduces a \\nvulnerability which allows members of \\nan adversarial community to gain remote \\naccess to programmable logic controllers \\n(PLC), thus giving them the ability to \\ndisrupt the production process at will.As these examples illustrate, cyber \\nthreats can come from many directions, \\nincluding internal actors aiming to sabotage \\nproduction, competitors seeking to cause \\nbrand damage, and external parties, such \\nas activist groups, wanting to shut down \\noperations.\\nNot all vulnerabilities stem from the \\ntechnologies themselves; behavioral \\naspects also come into play. For\\xa0instance, \\nsometimes a\\xa0lack of security awareness \\nwithin the organization can inadvertently \\nexpose systems to cyber attacks, such \\nas when employees bring portable \\nmedia that is infected with malware into \\nthe environment. Furthermore,\\xa0many \\noperations employees simply believe \\ntheir systems are an unlikely target, thus \\nthey are reluctant to buy into the need to \\nchange their behaviors and implement new \\nsecurity protocols. After\\xa0all, not long ago \\nthey could safely assume all equipment \\ncomponents were trustworthy, which is \\nno longer the case since digital sensors \\nand controllers can be manipulated to \\nprovide false input and misguiding status \\ninformation. Another\\xa0outdated assumption \\nis that process failures are mainly caused \\nby weather conditions, human error, and \\nequipment fatigue and not necessarily \\nmalicious manipulation of the system by \\nthose intending to inflict harm.\\nWhether a\\xa0cyber breach is intentional \\nor unintentional, the consequences can \\nbe grave, ranging from compromising \\nconfidential data to triggering system \\nfailure or shutdown. This\\xa0can result in \\ndecreased revenue, reputational damage, \\nenvironmental disaster, legal penalties, and \\nin extreme cases, loss of life.It’s easy to see why integrating effective \\nand comprehensive cyber security controls \\ninto ICS is necessary, if not increasingly \\nbecoming mandatory. However,\\xa0in order \\nto get there, companies must find a\\xa0way \\nto reconcile the divergent points of view \\nof IT and operations as ICS specialists do \\nnot always fully understand modern IT \\nsecurity risks, just as IT security specialists \\noften do not completely comprehend the \\nindustrial processes supported by ICS. \\nA\\xa0bowtie analysis, a\\xa0common concept used \\nin engineering for failure mode evaluation, \\ncan be a\\xa0useful tool for bridging this gap. \\nWhile\\xa0any analysis will be company‑specific, \\nfigure 2\\xa0provides an example of how the \\nbowtie analysis might look for an oil and \\ngas company.\\nDigitization\\xa0of operational \\nprocesses in the oil and \\ngas industry has led to \\nnew opportunities to \\nimprove productivity \\nand to drive down costs. \\nHowever,\\xa0the convergence \\nof operational and \\nbusiness systems has  \\nalso opened the enterprise \\nto a\\xa0whole new array of \\ncyber risks.\\n4An integrated approach to combat cyber risk  | Securing industrial operations in\\xa0oil and gas', metadata={'source': '/content/drive/MyDrive/POVs/Test PDF/intergrated-approach-combat-cyber-risk-oil-gas.pdf', 'page': 5}),\n",
              " Document(page_content='Figure 2. Example\\xa0of a “Cyber Risk” bowtie analysis for an oil and gas company\\nLikelihood management Consequence management\\nOperational \\ndisruption\\nInjury or fatality\\nReputational \\ndamage\\nRegulatory fines \\nand penaltiesLoss of critical \\nor confidential \\ninformation\\nFinancial loss\\nConsequencesThreat actors\\nForeign intelligence \\nservices\\nTerrorists\\nEmployees\\nContractors  \\nand vendors\\nHackers\\nActivistsThreats •Policy and  \\nstandards\\n •Risk assessment \\n •Training and  \\nawareness \\n •Vendor  \\nmanagement\\nEvent\\n •Information  \\nprotection  \\nand encryption\\n •Identity management\\n •Network segmentation\\n •Physical security\\n •Malware and patch  \\nmanagement •Incident  \\nresponse\\n •Emergency  \\nresponse •24/7  \\nsecurity  \\nand incident  \\nevent monitoring \\n •Threat  \\nintelligence\\nSource: Information adapted from Talbot, J, and Jakeman, M, 2008, ‘Security Risk Management Body of Knowledge’, RMIA, Carlton South\\n5An integrated approach to combat cyber risk  | Securing industrial operations in\\xa0oil and gas', metadata={'source': '/content/drive/MyDrive/POVs/Test PDF/intergrated-approach-combat-cyber-risk-oil-gas.pdf', 'page': 6}),\n",
              " Document(page_content='Conduct a\\xa0maturity assessment\\nOnce the risks are understood, an oil and \\ngas company should assess the maturity of \\nits cyber security controls in an operational \\nenvironment. While\\xa0not every risk can be \\nmitigated, it’s important to know what \\ntype of controls are in place and where to \\nfocus improvement efforts. This\\xa0means \\ngiving appropriate consideration to how \\npotential security breaches within ICS \\nlink to business risks. Importantly,\\xa0this \\ncan’t be done by an engineering or \\nIT group independently; it requires \\na\\xa0multi‑disciplinary team of business, \\noperations, engineering, and IT security \\nprofessionals to:\\n •Conduct an inventory assessment \\nof assets and facilities and rank \\nthem in terms of criticality . This\\xa0can \\ninvolve asking questions such as: Are \\nthere factors that make a\\xa0certain facility \\na\\xa0particularly attractive target? Are \\ncorporate IT standards, governance, and \\nmonitoring processes being applied to all \\nICS assets? Have the full range of cyber \\nvulnerabilities been considered, and \\nhave the potential consequences been \\nidentified and ideally quantified?  \\n \\nWhile\\xa0not every risk \\ncan be mitigated, it’s \\nimportant to know what \\ntype of controls are in \\nplace and where to focus \\nimprovement efforts. •Determine if critical assets and \\nfacilities have well‑known and \\nexploitable vulnerabilities . In\\xa0the oil \\nand gas industry, these vulnerabilities \\ndiffer somewhat according to sub‑sector. \\nFor\\xa0instance, exploration systems \\nare commonly exposed to theft of \\nproprietary data, such as geophysical \\nsurveys, exploration data, well statistics, \\nresearch studies, and strategic \\nplanning information, all of which can \\njeopardize competitive positioning. \\nProduction\\xa0systems, on the other hand, \\nare vulnerable to manipulation of SCADA \\nand other operational systems, as well \\nas loss of communication to remote \\nfacilities and production shutdowns \\ndue to virus infections. Here,\\xa0the \\nconsequences are more physical, \\nresulting in unsafe conditions and \\ndowntime, which, in turn, could lead to \\nhuman and financial loss. Similarly,\\xa0cyber \\nrisks in the midstream sector also have \\nboth physical and financial implications, \\nsuch as unsafe conditions, spills, and \\ndisruption to delivery or production \\nflow. The\\xa0downstream sector is also \\nvulnerable to manipulation of operational \\ncontrols, with the same physical and \\nfinancial implications as the other \\nsectors.\\xa0However,\\xa0downstream also \\nencompasses customer‑facing marketing \\nactivities, with the potential for theft of \\ncustomer data and the manipulation \\nof trading systems. This\\xa0could result \\nin revenue loss, brand damage, and \\nregulatory and compliance violations. •Assess the maturity of the controls \\nenvironment for proactively \\nmanaging these threats . In\\xa0gauging \\nthe sophistication of governance and \\ncontrols, it is often helpful to use \\nan established framework such as \\nthe Deloitte cyber security maturity \\nmodel, which is presented in figure 3. \\nIn\\xa0performing maturity assessments for \\na\\xa0broad range of energy and resources \\ncompanies, we’ve observed that the \\nmaturity of the oil and gas industry \\nas a\\xa0whole is about 2.5\\xa0on this scale, \\nwhereas the recommended position is \\ngreater than 4.\\nThroughout the maturity assessment \\nprocess, it is important to understand \\nthe difference between the security \\nconsiderations for business systems versus \\nindustrial control systems. In\\xa0today’s \\nintegrated environment, IT security \\nstandards and processes must be capable \\nof addressing both back‑office systems and \\nICS in a\\xa0manner that doesn’t interfere with \\nexisting mechanisms for protecting safety \\nand reliability.\\nIn addition to the maturity assessment,  \\nand as part of ongoing monitoring \\nactivities, organization’s need to \\nretroactively scour their assets regularly \\nfor not only known vulnerabilities but also \\nfor emerging threats, advanced persistent \\nthreats (APT), suspicious behavior and \\nto identify compromised assets before it \\nbecomes an incident.\\n6An integrated approach to combat cyber risk  | Securing industrial operations in\\xa0oil and gas', metadata={'source': '/content/drive/MyDrive/POVs/Test PDF/intergrated-approach-combat-cyber-risk-oil-gas.pdf', 'page': 7}),\n",
              " Document(page_content='Figure 3. The\\xa0Deloitte cyber security maturity model\\nOverall cyber security  \\nmaturity\\nKey controls\\n •General awareness \\nof ICS cyber security \\nneeds but not \\nconsidered a\\xa0priority •ICS cyber security \\nstrategy and policy \\nestablished\\n •Awareness and \\neducation\\n •Segmentation of \\nICS and corporate \\nnetworks\\n •Annual risk assessment \\nwith identified gaps \\nand remediation plan\\n •Physical security •Inventory of all \\ncyber\\xa0assets\\n •Security standards \\ndeveloped\\n •Annual vulnerability \\ntesting\\n •24/7\\xa0security \\nmonitoring\\n •Incident response plan \\ndeveloped and tested\\n •Virus and malware \\nprotection •Industrial control \\nsystems secured \\naccording to security \\nstandards\\n •Identity and access \\nmanagement for \\nprovisioning and \\nauthentication\\n •End point security\\n •Mobile protection\\n •Third party security •Cyber threat \\nintelligence/sensing\\n •Data loss prevention\\n •Behavioral analyticsBehaviors\\n •Dependent primarily \\non individuals and \\nisolated practices\\n •New or relatively \\ninexperienced security \\nteam •Ad‑hoc approach \\nwith some tools \\nand documented \\nprocedures\\n •Established security \\nfunction •Clearly defined \\nstrategy supported \\nwith tools and methods \\nto manage risk\\n •Security processes \\ndefined and in place\\n •Established security \\nfunction with \\nintegrated systems \\ndesigned to predict, \\nprevent, detect, and \\nrespond •Established security \\ncapability, with \\ndefined processes and \\nmeasures\\n •Focused on risk \\nmanagement and \\nbusiness enablement\\n •Two plus years \\noperating with \\ndefined processes and \\npractices •Risk sensing and \\npredictive analytics \\nused to model threats\\n •Highly automated\\n •Five plus years \\noperating without \\na\\xa0significant failureRecommended position for  \\noil and gasObserved position of  \\nthe oil and gas industry\\n12345\\nInitialRepeatableDefinedManagedOptimized\\n7An integrated approach to combat cyber risk  | Securing industrial operations in\\xa0oil and gas', metadata={'source': '/content/drive/MyDrive/POVs/Test PDF/intergrated-approach-combat-cyber-risk-oil-gas.pdf', 'page': 8}),\n",
              " Document(page_content='Build a\\xa0unified program\\nFor over 50\\xa0years, safety was the primary \\nmotivation behind designing and deploying \\ncontrols for physical production processes. \\nWhile\\xa0this motivation is still there to keep \\nprocesses in a\\xa0safe and operational state, \\nthe landscape of potential disruptions now \\nencompasses the cyber domain. This\\xa0now \\nrequires a\\xa0unified program to address \\ncyber security systematically across the \\nbusiness and operations. Although\\xa0building \\nand implementing a\\xa0program of this nature \\nis a\\xa0multi‑year, transformational effort, \\neach phase of the initiative should have \\nthe same objective in mind, moving up the \\nmaturity scale to create an ICS environment \\nthat is secure, resilient, and vigilant.\\nSecure\\nBeing secure is about preventing system \\nbreaches or compromises through \\neffective, automated controls and \\nmonitoring. However,\\xa0it’s not feasible to \\nsecure everything equally. Critical\\xa0assets \\nand infrastructure, and their associated \\nICS, would obviously be at the top of \\nthe list, but it’s important to remember \\nthat they’re not isolated components. \\nThey’re part of larger supply chains; so, \\nit’s essential to shore up weaknesses \\nthroughout end‑to‑end processes. This\\xa0can \\ninvolve many layers and types of controls, \\nranging from hardening sensors on \\nprocessing facilities to installing software \\nfirewalls. Systems\\xa0need to be designed \\nto consider that the entity operating an \\nasset may not be the only organization \\nwith rights to data. Service\\xa0and supply \\ncompanies and equipment vendors may \\nalso be given visibility into operational and \\nequipment performance data in order \\nto improve the services they can offer. \\nUnless\\xa0properly structured, this might \\nprovide an opportunity for unforeseen \\ndata leakage or system weaknesses, which \\ncould be exploited by third parties. It\\xa0is \\nessential to build control and monitoring \\nsystems with clearly defined data access \\nrights and the ability to identify when these \\nare contravened.Vigilant\\nSecurity alone is not enough. It\\xa0must be \\naccompanied by vigilance, or continuous \\nmonitoring, to determine whether a\\xa0system \\nis still secure or has been compromised. \\nWorthwhile\\xa0efforts to be vigilant start \\nwith a\\xa0good idea of what one needs to \\ndefend against. There\\xa0are discernable \\nthreat trends in the oil and gas industry, \\nwhich provide a\\xa0good starting point for \\nunderstanding the types of attacks being \\nlaunched against ICS. These\\xa0trends, \\nhowever, need to be supplemented by an \\nunderstanding of the organization’s specific \\nbusiness risks in order to anticipate what \\nmight occur and design detection systems \\naccordingly.\\nResilient\\nA resilient organization should ensure it \\nhas the plans and procedures in place \\nto identify a\\xa0cyber attack, contain or \\nneutralize it, and rapidly restore normal \\noperations. We\\xa0can refer to these steps \\nas detect, respond, and recover, and the \\nprotocols for ensuring successful outcomes \\nwill depend on the type of cyber issue \\nidentified.\\nAt any level of the oil and gas value \\nchain, whether it be upstream wellhead \\noperations, midstream processing \\nplants and pipelines, or downstream \\nrefining and delivery logistics, continuous \\nautomated monitoring of equipment \\nshould allow real‑time detection of \\nanomalies. This\\xa0includes continually \\nknowing the status of pumps, valves, \\ncompressors, or process units, including \\nflow rates and patterns of fluids and \\ngasses. Ongoing\\xa0visibility into these metrics \\nshould facilitate rapid reaction to eliminate \\nenvironmental and safety hazards \\nstemming from out‑of‑control operations, \\nup to and including shutting down where \\nnecessary.It\\xa0may be harder to detect the \\nmisappropriation or alteration of \\ncommercially sensitive data relating to well \\nperformance, flow rates, or asset utilization \\nin processing or refining environments. \\nTherefore,\\xa0it is even more important to \\nbuild safeguards into the design of these \\ndata management systems.\\nEven if security controls fail and a\\xa0cyber \\nattack goes undetected, the ability to \\nmount a\\xa0strong response can help to \\ncontain production losses as well as \\nfinancial, environmental, and brand \\ndamage. The\\xa0response and recovery \\nphases will need to include not only \\nimmediate remediation of compromised \\nequipment and systems but also \\nin‑depth analysis of where and how \\ncyber attacks occurred, what system \\nvulnerabilities allowed them to happen, \\nand what mitigation measures should be \\nimplemented to prevent further risks.\\nCritically, it’s not sufficient to just \\nput playbooks and policies in place. \\nLike\\xa0a\\xa0familiar fire drill, they should be \\nrehearsed periodically through cyber \\nwar‑gaming and simulations that bring \\ntogether business and technology teams.\\nAlthough\\xa0building and \\nimplementing a\\xa0program of \\nthis nature is a\\xa0multi‑year, \\ntransformational effort, \\neach phase of the initiative \\nshould have the same \\nobjective in mind, moving \\nup the maturity scale to \\ncreate an ICS environment \\nthat is secure, resilient, \\nand\\xa0vigilant.\\n8An integrated approach to combat cyber risk  | Securing industrial operations in\\xa0oil and gas', metadata={'source': '/content/drive/MyDrive/POVs/Test PDF/intergrated-approach-combat-cyber-risk-oil-gas.pdf', 'page': 9}),\n",
              " Document(page_content='Implement key controls\\nWhile risk appetite and maturity levels will \\nvary, there are a\\xa0few pillars for cyber risk \\ntransformation in an ICS environment that \\nnearly every oil and gas company should \\nhave in place. Implementing\\xa0these key \\ncontrols can provide a\\xa0starting point for \\na\\xa0customized program aimed at achieving \\nsecurity, vigilance, and resiliency.\\n •Awareness training: Cyber security \\nawareness needs to be promoted among \\nprofessionals at different roles in the \\norganization, along with training to give \\nthem the necessary skills to interact with \\nsystems safely, securely, and responsibly.\\n •Access control: ICS components, \\nincluding hardware, applications, and \\nnetworks, are both physically and \\nlogically secured, with access only being \\ngranted after formal authentication and \\nauthorization. •Network security: Access to wired \\nand wireless networks within the ICS \\nenvironment is limited and secured in \\naccordance with leading identity and \\naccess management practices, including \\ndynamic provisioning and authentication, \\n24/7\\xa0monitoring, and end point security.\\n •Portable media: Use of portable media \\nwithin the ICS environment is restricted \\nand scanned for malicious software.\\n •Incident response: Incident management \\npolicies and procedures are developed \\nand periodically tested.  \\nWhile risk appetite and maturity levels will vary, there \\nare a\\xa0few pillars for cyber risk transformation in an ICS \\nenvironment that nearly every oil and gas company \\nshould have in\\xa0place.\\nGOVERNANCE SECURE VIGILANT RESILIENTCyber Security ManagementRick Management  \\n& Compliance\\nInformation ProtectionInformation Lifecycle \\nManagement\\nThreat  \\nManagementCyber Attack  \\nReadiness Testing\\nIncident  \\nManagementSecurity Incident Response\\nPolicies & Standards Encryption\\nSecurity \\nAnalyticsSecurity Event MonitoringBusiness Continuity \\nManagement\\nTraining & Awareness\\nIdentity & Access \\nManagementAuthentication\\nVendor ManagementRoles & Rights  \\nManagement\\nIdentify Lifecycle \\nManagementInfrastructure ProtectionNetwork Security\\nPhysical Security\\nSystem Security\\nPatch & Vulnerability\\nMalware ProtectionFigure 4: Key controls \\n9An integrated approach to combat cyber risk  | Securing industrial operations in\\xa0oil and gas', metadata={'source': '/content/drive/MyDrive/POVs/Test PDF/intergrated-approach-combat-cyber-risk-oil-gas.pdf', 'page': 10}),\n",
              " Document(page_content='Embrace good governance\\nClear ownership of ICS security is crucial, \\nand roles and responsibilities should be \\nclearly defined for everyone involved, from \\nmanagers to process operators to third \\nparties. Ultimately,\\xa0there must be a\\xa0single \\nline of accountability. Without\\xa0one, it is \\nchallenging not only to define requirements \\nthat apply to the whole organization but \\nalso to identify where centralized versus \\nlocal solutions are appropriate.\\nIn the past, the manufacturing and \\nengineering discipline owned the \\nproduction environment, including ICS and \\nrelated security mechanisms. Today,\\xa0ICS \\nsecurity is increasingly becoming a\\xa0part of \\nthe corporate organization, falling under \\nthe auspices of the Chief Information \\nSecurity Officer (CISO). Yet,\\xa0this isn’t about \\nIT stepping in and running the oil field or \\nthe refinery. Even\\xa0with CISO accountability, \\nthe engineering organization is still \\nresponsible for developing the right \\nsolutions and deploying them at the sites.  \\n Implementing a\\xa0cyber security program \\nwithin the ICS domain additionally \\nposes some distinct talent management \\nchallenges. The\\xa0job profile often requires \\npeople to be stationed at sites for \\na\\xa0number of years. Without\\xa0providing them \\nwith a\\xa0clear career path, two things could \\nhappen:\\n1. IT professionals who are forced into \\nan ICS security role will consider the \\nprogram as merely a\\xa0sideline activity  \\nand will not actively contribute.\\n2. Security savvy professionals will quickly \\nreach their peak at a\\xa0site and then will \\nsearch for another organization.\\nIdeally, the organization should develop \\nan awareness program to bridge the \\ngap between IT and ICS professionals, \\nas well as a\\xa0career development path for \\nthose wishing to specialize in ICS security. \\nThis\\xa0path often starts with an entry‑level \\nsite analyst position and progresses \\nto a\\xa0global security role within the \\norganization.Implementing a\\xa0cyber \\nsecurity program within \\nthe ICS domain additionally \\nposes some distinct talent \\nmanagement challenges.\\n10An integrated approach to combat cyber risk  | Securing industrial operations in\\xa0oil and gas', metadata={'source': '/content/drive/MyDrive/POVs/Test PDF/intergrated-approach-combat-cyber-risk-oil-gas.pdf', 'page': 11}),\n",
              " Document(page_content='Conclusion\\nIn the past few years, the oil and gas \\nindustry has seen the traditional \\nboundaries between corporate IT and ICS \\nlargely disappear. Today,\\xa0the evolution \\ncontinues with the digitization of the oil \\nand gas field. As\\xa0this interconnectedness \\nmarches on, so does the frequency \\nand sophistication of cyber attacks. \\nHowever,\\xa0most companies have not kept \\npace in terms of their preparedness.The\\xa0place to start is assessing the maturity \\nof the cyber security controls environment. \\nGoing\\xa0beyond traditional operational safety \\nconsiderations to implement a\\xa0secure, \\nvigilant, and resilient program is not only \\nessential for enhancing an oil and gas \\ncompany’s ability to protect operational \\nintegrity amid a\\xa0growing range of cyber \\nthreats, but also to achieve operational \\nexcellence by taking advantage of the \\nproductivity benefits offered by a\\xa0digitized, \\nfully integrated ICS environment.The\\xa0call to bridge the \\ncyber‑readiness gap has \\nnever been louder, with \\ngrowing public awareness \\nof cyber crime and the \\npotentially disastrous \\nimpact it can have on \\ncritical infrastructure.\\n11An integrated approach to combat cyber risk  | Securing industrial operations in\\xa0oil and gas', metadata={'source': '/content/drive/MyDrive/POVs/Test PDF/intergrated-approach-combat-cyber-risk-oil-gas.pdf', 'page': 12}),\n",
              " Document(page_content='Contact us\\nDeloitte can assist you in conducting a\\xa0cyber security maturity assessment.  \\nFor\\xa0more information, contact one of our risk management professionals below:\\nAuthors\\nPaul Zonneveld\\nGlobal Energy & Resources  \\n– Risk\\xa0Advisory\\xa0Leader\\nDeloitte Canada \\n+1\\xa0403\\xa0503\\xa01356\\npzonneveld@deloitte.caAndrew Slaughter\\nExecutive Director  \\n– Deloitte Center for Energy Solutions \\nDeloitte US\\n+1\\xa0713\\xa0982\\xa03526\\nanslaughter@deloitte.com\\nGlobal contacts\\nAnton Botes\\nGlobal Leader – Oil & Gas\\nDeloitte Touche Tohmatsu Limited\\n+27\\xa011\\xa0806\\xa05197\\nabotes@deloitte.co.za\\nPaul Zonneveld\\nGlobal Energy & Resources  \\n– Risk\\xa0Advisory\\xa0Leader\\nDeloitte Canada \\n+1\\xa0403\\xa0503\\xa01356\\npzonneveld@deloitte.ca\\nDina Kamal\\nNational Energy & Resources  \\n– Risk Advisory Leader\\nDeloitte Canada\\n+1\\xa0416\\xa0775\\xa07414\\ndkamal@deloitte.ca\\nAmir Belkhelladi\\nRisk Advisory – Partner\\nDeloitte Canada\\n+1\\xa0514\\xa0393\\xa07035\\nabelkhelladi@deloitte.ca\\nTiaan van Schalkwyk\\nRisk Advisory – Associate Director\\nDeloitte Africa\\n+27\\xa011\\xa0806\\xa05167\\ntvanschalkwyk@deloitte.co.zaRajeev Chopra\\nGlobal Leader – Energy & Resources\\nDeloitte Touche Tohmatsu Limited\\n+44\\xa020\\xa07007\\xa02933\\nrchopra@deloitte.co.uk\\nSteve Livingston\\nNational Power & Utilities  \\n– Risk Advisory Leader\\nDeloitte US\\n+1\\xa0206\\xa0716\\xa07539\\nslivingston@deloitte.com\\nRamsey Hajj\\nRisk Advisory  \\n– Senior Manager\\nDeloitte US\\n+1\\xa0561\\xa0962\\xa07843\\nrhajj@deloitte.com\\nMarko Van Zwam \\nRisk Advisory – Partner\\nDeloitte Netherlands\\n+31 88 288 0890\\nMvanZwam@deloitte.nl\\nCharles Hosner \\nRisk Advisory – Partner\\nDeloitte UK\\n+44 20 7007 2827\\nchosner@deloitte.co.uk\\nRob Hayes \\nRisk Advisory – Director\\nDeloitte UK\\n+44 20 7007 2606\\nrjhayes@deloitte.co.uk\\n12An integrated approach to combat cyber risk  | Securing industrial operations in\\xa0oil and gas', metadata={'source': '/content/drive/MyDrive/POVs/Test PDF/intergrated-approach-combat-cyber-risk-oil-gas.pdf', 'page': 13}),\n",
              " Document(page_content='Deloitte refers to one or more of Deloitte Touche Tohmatsu Limited, a UK \\nprivate company limited by guarantee (“DTTL”), its network of member firms, \\nand their related entities. DTTL and each of its member firms are legally \\nseparate and independent entities. DTTL (also referred to as “Deloitte Global”) \\ndoes not provide services to clients. Please see www.deloitte.com/about for a \\nmore detailed description of DTTL and its member firms.\\n Deloitte provides audit, tax, consulting, and financial advisory services \\nto public and private clients spanning multiple industries. With a globally \\nconnected network of member firms in more than 150 countries and \\nterritories, Deloitte brings world‑class capabilities and high‑quality service \\nto clients, delivering the insights they need to address their most complex \\nbusiness challenges. Deloitte’s more than 200,000 professionals are committed \\nto becoming the standard of excellence.\\n© 2017. For information, contact Deloitte Touche Tohmatsu Limited.\\nDesigned and produced by The Creative Studio at Deloitte, London. J11747', metadata={'source': '/content/drive/MyDrive/POVs/Test PDF/intergrated-approach-combat-cyber-risk-oil-gas.pdf', 'page': 15})]"
            ]
          },
          "metadata": {},
          "execution_count": 9
        }
      ]
    },
    {
      "cell_type": "code",
      "source": [
        "# Define a function to clean the text\n",
        "def clean_text(text):\n",
        "    # Remove '\\xa0' (non-breaking space)\n",
        "    text = re.sub(r'\\xa0', ' ', text)\n",
        "\n",
        "    # Remove '\\n' (newlines)\n",
        "    text = re.sub(r'\\n', ' ', text)\n",
        "\n",
        "    # Remove consecutive dots ('.....') with just one dot\n",
        "    text = re.sub(r'\\.{2,}', '', text)\n",
        "\n",
        "    # Remove '\\uf0b7'\n",
        "    text = re.sub(r'\\uf0b7', ' ', text)\n",
        "\n",
        "    # Remove consecutive spaces\n",
        "    text = re.sub(r' +', ' ', text)\n",
        "\n",
        "    return text\n",
        "\n",
        "# Clean the text in the 'page_content' of each document in the 'data' list\n",
        "import re\n",
        "\n",
        "for document in data:\n",
        "    document.page_content = clean_text(document.page_content)"
      ],
      "metadata": {
        "id": "EsC_qHqj7UkS"
      },
      "execution_count": 10,
      "outputs": []
    },
    {
      "cell_type": "code",
      "source": [
        "data"
      ],
      "metadata": {
        "colab": {
          "base_uri": "https://localhost:8080/"
        },
        "id": "D92IcdDz8xVX",
        "outputId": "7b2ab1d1-a45e-4efb-d614-5ee15581909d"
      },
      "execution_count": 11,
      "outputs": [
        {
          "output_type": "execute_result",
          "data": {
            "text/plain": [
              "[Document(page_content='An integrated approach to combat cyber risk Securing industrial operations in oil and gas', metadata={'source': '/content/drive/MyDrive/POVs/Test PDF/intergrated-approach-combat-cyber-risk-oil-gas.pdf', 'page': 0}),\n",
              " Document(page_content='ContentsForeword 1 Introduction 2 Understanding the risks 4 Conduct a maturity assessment 6 Build a unified program 8 Implement key controls 9 Embrace good governance 10 Conclusion 11 Contact us 12', metadata={'source': '/content/drive/MyDrive/POVs/Test PDF/intergrated-approach-combat-cyber-risk-oil-gas.pdf', 'page': 1}),\n",
              " Document(page_content='Foreword The oil and gas industry is moving into the next stage of evolution, whereby robotics, digitization, and the Internet of Things (IoT) are rapidly being integrated into the operational environment. The interest of cyber criminals in industrial operations has increased over the last decade resulting in cyberattacks that have compromised both production and safety. These attacks have made cyber security a hot discussion topic in boardrooms around the world, and now, a growing number of organizations are developing large transformation programs to address these new operational threats. However, making operational processes secure, vigilant and resilient is a challenge as this requires the organization to harmonize and align two cultures, engineering and IT. In addition, the operations environment demands tailored technical solutions that are not always easy to secure.Solving these challenges requires a clear understanding of both the engineering and IT disciplines as well as leading sector‑specific cyber security practices. This paper shares the insight gained from our extensive field experience, including lessons learned in helping oil and gas companies to go beyond safety in securing their industrial control systems (ICS). We hope you find this report to be both thought provoking and useful. Regards, Paul Zonneveld Global Energy & Resources Risk Advisory Leader Deloitte Canada This paper shares the insight gained from our extensive field experience, including lessons learned in helping oil and gas companies to go beyond safety in securing their industrial control systems (ICS). 1An integrated approach to combat cyber risk | Securing industrial operations in oil and gas', metadata={'source': '/content/drive/MyDrive/POVs/Test PDF/intergrated-approach-combat-cyber-risk-oil-gas.pdf', 'page': 2}),\n",
              " Document(page_content='Critical infrastructure relies on industrial control systems (ICS) to maintain safe and reliable operations. Engineers have successfully designed and deployed ICS with safety and reliability in mind, but not always security. Why? Originally, there was little need for it. Fit‑for‑purpose, isolated operational systems were the order of the day. Since these operational systems were not integrated to enterprise systems or even to each other, the risk of a large‑scale cascading failure due to an attack, cyber or otherwise, was extremely isolated. Fast forward 20 years, and the ubiquitous connectivity of the Internet of Things (IoT) has turned the most basic assumptions about operational security upside down. Today, all sorts of industrial facilities, including oil fields, pipelines and refineries, are vulnerable to cyber attacks. Regardless of their location, operational systems can now be compromised by external or internal risks, causing safety or production failures and increasing commercial risk. Although ICS are typically designed to fail safe, the increasing sophistication of cyber criminals heightens the risk of catastrophic incidents, along with the magnitude of the impacts in terms of cost, safety, reputation, and commercial or financial losses.Like other industries, the oil and gas sector has been working to improve cyber security, which is a priority concern among senior leadership and boards of directors. While the industry has escaped a major operational catastrophe thus far, this good fortune may not last unless companies expand their cyber security programs. To date, oil and gas companies have been primarily focused on protecting corporate, as opposed to operational, systems and data. That’s because IoT—where production can be controlled from an iPad or a smart phone, for instance—is relatively new, gaining momentum over the last decade. Also, operational systems are inherently different, requiring engineering know‑how, and not just IT expertise, in order to secure them appropriately. Today, an approach that brings together IT and engineering is needed to address cyber security programmatically and sustainably. The following discusses the goals of such an approach as well as practical steps for getting started. First, let’s take a closer look at the types of cyber risks facing the oil and gas industry, how they can disrupt the value chain, and what the consequences could be. While the industry has escaped a major operational catastrophe thus far, this good fortune may not last unless companies expand their cyber security programs.Introduction 2An integrated approach to combat cyber risk | Securing industrial operations in oil and gas', metadata={'source': '/content/drive/MyDrive/POVs/Test PDF/intergrated-approach-combat-cyber-risk-oil-gas.pdf', 'page': 3}),\n",
              " Document(page_content='Figure 1. How cyber threats impact the oil and gas value chain Downstream •Processing of crude oil into petroleum products •Product blending •Retailing •Trading Downstream scenario #1: Theft of inventory data on crude oil and refined products Risk: Failure to meet business commitments and reputation damageDownstream scenario #2: Interruption or tampering with operational controls Risk: Unsafe operating conditions and downtime, leading to supply disruption and revenue lossRefining Marketing Midstream •Gathering and transporting—pipelines, tankers, trucks Midstream scenario #1: Unauthorized access to and manipulation of pipelines systems Risk: Explosion, spillage, environmental, damage, and unsafe conditions for personnel and adjacent populationsMidstream scenario #2: Monitoring is distorted or interrupted, thus compromising equipment integrity Risk: Shutdown of system for investigation, resulting in missed shipments and financial lossTransportationUpstream Upstream scenario #1: Misappropriation of commercially sensitive reservoir performance and well data Risk: Damage to the operator’s competitive position in a play or field •Geophysical evaluation and design •Field development •Drilling operations •Bringing the oil to the surface Upstream scenario #2: Key well‑control and safety equipment is pushed outside normal operating parameters or shut down completely Risk: Operational shutdown and financial loss, as well as field safety incidents, due to equipment malfunction Exploration ProductionCyber threat 3An integrated approach to combat cyber risk | Securing industrial operations in oil and gas', metadata={'source': '/content/drive/MyDrive/POVs/Test PDF/intergrated-approach-combat-cyber-risk-oil-gas.pdf', 'page': 4}),\n",
              " Document(page_content='Understanding the risks One of the main factors that makes it so difficult to secure ICS is that they were not designed to be connected; yet, today they are networked. Digitization of operational processes in the oil and gas industry has led to new opportunities to improve productivity and to drive down costs. However, the convergence of operational and business systems has also opened the enterprise to a whole new array of cyber risks. Consider the following scenarios, the possibility of which didn’t exist a few years ago: •Insecure remote access communication allows a cyber criminal to hijack a process control system and push production to unsafe levels. •Poor security practices by a third‑party contractor allow a virus to migrate into the production environment, shutting down critical Supervisory Control and Data Acquisition (SCADA) systems and creating unsafe working conditions. •Improper testing of IT systems prior to deployment results in a system crash, leading to disruption or shutdown of operations. •Technology acquired directly by a facility, without adequate testing and evaluation, goes unpatched and introduces a vulnerability which allows members of an adversarial community to gain remote access to programmable logic controllers (PLC), thus giving them the ability to disrupt the production process at will.As these examples illustrate, cyber threats can come from many directions, including internal actors aiming to sabotage production, competitors seeking to cause brand damage, and external parties, such as activist groups, wanting to shut down operations. Not all vulnerabilities stem from the technologies themselves; behavioral aspects also come into play. For instance, sometimes a lack of security awareness within the organization can inadvertently expose systems to cyber attacks, such as when employees bring portable media that is infected with malware into the environment. Furthermore, many operations employees simply believe their systems are an unlikely target, thus they are reluctant to buy into the need to change their behaviors and implement new security protocols. After all, not long ago they could safely assume all equipment components were trustworthy, which is no longer the case since digital sensors and controllers can be manipulated to provide false input and misguiding status information. Another outdated assumption is that process failures are mainly caused by weather conditions, human error, and equipment fatigue and not necessarily malicious manipulation of the system by those intending to inflict harm. Whether a cyber breach is intentional or unintentional, the consequences can be grave, ranging from compromising confidential data to triggering system failure or shutdown. This can result in decreased revenue, reputational damage, environmental disaster, legal penalties, and in extreme cases, loss of life.It’s easy to see why integrating effective and comprehensive cyber security controls into ICS is necessary, if not increasingly becoming mandatory. However, in order to get there, companies must find a way to reconcile the divergent points of view of IT and operations as ICS specialists do not always fully understand modern IT security risks, just as IT security specialists often do not completely comprehend the industrial processes supported by ICS. A bowtie analysis, a common concept used in engineering for failure mode evaluation, can be a useful tool for bridging this gap. While any analysis will be company‑specific, figure 2 provides an example of how the bowtie analysis might look for an oil and gas company. Digitization of operational processes in the oil and gas industry has led to new opportunities to improve productivity and to drive down costs. However, the convergence of operational and business systems has also opened the enterprise to a whole new array of cyber risks. 4An integrated approach to combat cyber risk | Securing industrial operations in oil and gas', metadata={'source': '/content/drive/MyDrive/POVs/Test PDF/intergrated-approach-combat-cyber-risk-oil-gas.pdf', 'page': 5}),\n",
              " Document(page_content='Figure 2. Example of a “Cyber Risk” bowtie analysis for an oil and gas company Likelihood management Consequence management Operational disruption Injury or fatality Reputational damage Regulatory fines and penaltiesLoss of critical or confidential information Financial loss ConsequencesThreat actors Foreign intelligence services Terrorists Employees Contractors and vendors Hackers ActivistsThreats •Policy and standards •Risk assessment •Training and awareness •Vendor management Event •Information protection and encryption •Identity management •Network segmentation •Physical security •Malware and patch management •Incident response •Emergency response •24/7 security and incident event monitoring •Threat intelligence Source: Information adapted from Talbot, J, and Jakeman, M, 2008, ‘Security Risk Management Body of Knowledge’, RMIA, Carlton South 5An integrated approach to combat cyber risk | Securing industrial operations in oil and gas', metadata={'source': '/content/drive/MyDrive/POVs/Test PDF/intergrated-approach-combat-cyber-risk-oil-gas.pdf', 'page': 6}),\n",
              " Document(page_content='Conduct a maturity assessment Once the risks are understood, an oil and gas company should assess the maturity of its cyber security controls in an operational environment. While not every risk can be mitigated, it’s important to know what type of controls are in place and where to focus improvement efforts. This means giving appropriate consideration to how potential security breaches within ICS link to business risks. Importantly, this can’t be done by an engineering or IT group independently; it requires a multi‑disciplinary team of business, operations, engineering, and IT security professionals to: •Conduct an inventory assessment of assets and facilities and rank them in terms of criticality . This can involve asking questions such as: Are there factors that make a certain facility a particularly attractive target? Are corporate IT standards, governance, and monitoring processes being applied to all ICS assets? Have the full range of cyber vulnerabilities been considered, and have the potential consequences been identified and ideally quantified? While not every risk can be mitigated, it’s important to know what type of controls are in place and where to focus improvement efforts. •Determine if critical assets and facilities have well‑known and exploitable vulnerabilities . In the oil and gas industry, these vulnerabilities differ somewhat according to sub‑sector. For instance, exploration systems are commonly exposed to theft of proprietary data, such as geophysical surveys, exploration data, well statistics, research studies, and strategic planning information, all of which can jeopardize competitive positioning. Production systems, on the other hand, are vulnerable to manipulation of SCADA and other operational systems, as well as loss of communication to remote facilities and production shutdowns due to virus infections. Here, the consequences are more physical, resulting in unsafe conditions and downtime, which, in turn, could lead to human and financial loss. Similarly, cyber risks in the midstream sector also have both physical and financial implications, such as unsafe conditions, spills, and disruption to delivery or production flow. The downstream sector is also vulnerable to manipulation of operational controls, with the same physical and financial implications as the other sectors. However, downstream also encompasses customer‑facing marketing activities, with the potential for theft of customer data and the manipulation of trading systems. This could result in revenue loss, brand damage, and regulatory and compliance violations. •Assess the maturity of the controls environment for proactively managing these threats . In gauging the sophistication of governance and controls, it is often helpful to use an established framework such as the Deloitte cyber security maturity model, which is presented in figure 3. In performing maturity assessments for a broad range of energy and resources companies, we’ve observed that the maturity of the oil and gas industry as a whole is about 2.5 on this scale, whereas the recommended position is greater than 4. Throughout the maturity assessment process, it is important to understand the difference between the security considerations for business systems versus industrial control systems. In today’s integrated environment, IT security standards and processes must be capable of addressing both back‑office systems and ICS in a manner that doesn’t interfere with existing mechanisms for protecting safety and reliability. In addition to the maturity assessment, and as part of ongoing monitoring activities, organization’s need to retroactively scour their assets regularly for not only known vulnerabilities but also for emerging threats, advanced persistent threats (APT), suspicious behavior and to identify compromised assets before it becomes an incident. 6An integrated approach to combat cyber risk | Securing industrial operations in oil and gas', metadata={'source': '/content/drive/MyDrive/POVs/Test PDF/intergrated-approach-combat-cyber-risk-oil-gas.pdf', 'page': 7}),\n",
              " Document(page_content='Figure 3. The Deloitte cyber security maturity model Overall cyber security maturity Key controls •General awareness of ICS cyber security needs but not considered a priority •ICS cyber security strategy and policy established •Awareness and education •Segmentation of ICS and corporate networks •Annual risk assessment with identified gaps and remediation plan •Physical security •Inventory of all cyber assets •Security standards developed •Annual vulnerability testing •24/7 security monitoring •Incident response plan developed and tested •Virus and malware protection •Industrial control systems secured according to security standards •Identity and access management for provisioning and authentication •End point security •Mobile protection •Third party security •Cyber threat intelligence/sensing •Data loss prevention •Behavioral analyticsBehaviors •Dependent primarily on individuals and isolated practices •New or relatively inexperienced security team •Ad‑hoc approach with some tools and documented procedures •Established security function •Clearly defined strategy supported with tools and methods to manage risk •Security processes defined and in place •Established security function with integrated systems designed to predict, prevent, detect, and respond •Established security capability, with defined processes and measures •Focused on risk management and business enablement •Two plus years operating with defined processes and practices •Risk sensing and predictive analytics used to model threats •Highly automated •Five plus years operating without a significant failureRecommended position for oil and gasObserved position of the oil and gas industry 12345 InitialRepeatableDefinedManagedOptimized 7An integrated approach to combat cyber risk | Securing industrial operations in oil and gas', metadata={'source': '/content/drive/MyDrive/POVs/Test PDF/intergrated-approach-combat-cyber-risk-oil-gas.pdf', 'page': 8}),\n",
              " Document(page_content='Build a unified program For over 50 years, safety was the primary motivation behind designing and deploying controls for physical production processes. While this motivation is still there to keep processes in a safe and operational state, the landscape of potential disruptions now encompasses the cyber domain. This now requires a unified program to address cyber security systematically across the business and operations. Although building and implementing a program of this nature is a multi‑year, transformational effort, each phase of the initiative should have the same objective in mind, moving up the maturity scale to create an ICS environment that is secure, resilient, and vigilant. Secure Being secure is about preventing system breaches or compromises through effective, automated controls and monitoring. However, it’s not feasible to secure everything equally. Critical assets and infrastructure, and their associated ICS, would obviously be at the top of the list, but it’s important to remember that they’re not isolated components. They’re part of larger supply chains; so, it’s essential to shore up weaknesses throughout end‑to‑end processes. This can involve many layers and types of controls, ranging from hardening sensors on processing facilities to installing software firewalls. Systems need to be designed to consider that the entity operating an asset may not be the only organization with rights to data. Service and supply companies and equipment vendors may also be given visibility into operational and equipment performance data in order to improve the services they can offer. Unless properly structured, this might provide an opportunity for unforeseen data leakage or system weaknesses, which could be exploited by third parties. It is essential to build control and monitoring systems with clearly defined data access rights and the ability to identify when these are contravened.Vigilant Security alone is not enough. It must be accompanied by vigilance, or continuous monitoring, to determine whether a system is still secure or has been compromised. Worthwhile efforts to be vigilant start with a good idea of what one needs to defend against. There are discernable threat trends in the oil and gas industry, which provide a good starting point for understanding the types of attacks being launched against ICS. These trends, however, need to be supplemented by an understanding of the organization’s specific business risks in order to anticipate what might occur and design detection systems accordingly. Resilient A resilient organization should ensure it has the plans and procedures in place to identify a cyber attack, contain or neutralize it, and rapidly restore normal operations. We can refer to these steps as detect, respond, and recover, and the protocols for ensuring successful outcomes will depend on the type of cyber issue identified. At any level of the oil and gas value chain, whether it be upstream wellhead operations, midstream processing plants and pipelines, or downstream refining and delivery logistics, continuous automated monitoring of equipment should allow real‑time detection of anomalies. This includes continually knowing the status of pumps, valves, compressors, or process units, including flow rates and patterns of fluids and gasses. Ongoing visibility into these metrics should facilitate rapid reaction to eliminate environmental and safety hazards stemming from out‑of‑control operations, up to and including shutting down where necessary.It may be harder to detect the misappropriation or alteration of commercially sensitive data relating to well performance, flow rates, or asset utilization in processing or refining environments. Therefore, it is even more important to build safeguards into the design of these data management systems. Even if security controls fail and a cyber attack goes undetected, the ability to mount a strong response can help to contain production losses as well as financial, environmental, and brand damage. The response and recovery phases will need to include not only immediate remediation of compromised equipment and systems but also in‑depth analysis of where and how cyber attacks occurred, what system vulnerabilities allowed them to happen, and what mitigation measures should be implemented to prevent further risks. Critically, it’s not sufficient to just put playbooks and policies in place. Like a familiar fire drill, they should be rehearsed periodically through cyber war‑gaming and simulations that bring together business and technology teams. Although building and implementing a program of this nature is a multi‑year, transformational effort, each phase of the initiative should have the same objective in mind, moving up the maturity scale to create an ICS environment that is secure, resilient, and vigilant. 8An integrated approach to combat cyber risk | Securing industrial operations in oil and gas', metadata={'source': '/content/drive/MyDrive/POVs/Test PDF/intergrated-approach-combat-cyber-risk-oil-gas.pdf', 'page': 9}),\n",
              " Document(page_content='Implement key controls While risk appetite and maturity levels will vary, there are a few pillars for cyber risk transformation in an ICS environment that nearly every oil and gas company should have in place. Implementing these key controls can provide a starting point for a customized program aimed at achieving security, vigilance, and resiliency. •Awareness training: Cyber security awareness needs to be promoted among professionals at different roles in the organization, along with training to give them the necessary skills to interact with systems safely, securely, and responsibly. •Access control: ICS components, including hardware, applications, and networks, are both physically and logically secured, with access only being granted after formal authentication and authorization. •Network security: Access to wired and wireless networks within the ICS environment is limited and secured in accordance with leading identity and access management practices, including dynamic provisioning and authentication, 24/7 monitoring, and end point security. •Portable media: Use of portable media within the ICS environment is restricted and scanned for malicious software. •Incident response: Incident management policies and procedures are developed and periodically tested. While risk appetite and maturity levels will vary, there are a few pillars for cyber risk transformation in an ICS environment that nearly every oil and gas company should have in place. GOVERNANCE SECURE VIGILANT RESILIENTCyber Security ManagementRick Management & Compliance Information ProtectionInformation Lifecycle Management Threat ManagementCyber Attack Readiness Testing Incident ManagementSecurity Incident Response Policies & Standards Encryption Security AnalyticsSecurity Event MonitoringBusiness Continuity Management Training & Awareness Identity & Access ManagementAuthentication Vendor ManagementRoles & Rights Management Identify Lifecycle ManagementInfrastructure ProtectionNetwork Security Physical Security System Security Patch & Vulnerability Malware ProtectionFigure 4: Key controls 9An integrated approach to combat cyber risk | Securing industrial operations in oil and gas', metadata={'source': '/content/drive/MyDrive/POVs/Test PDF/intergrated-approach-combat-cyber-risk-oil-gas.pdf', 'page': 10}),\n",
              " Document(page_content='Embrace good governance Clear ownership of ICS security is crucial, and roles and responsibilities should be clearly defined for everyone involved, from managers to process operators to third parties. Ultimately, there must be a single line of accountability. Without one, it is challenging not only to define requirements that apply to the whole organization but also to identify where centralized versus local solutions are appropriate. In the past, the manufacturing and engineering discipline owned the production environment, including ICS and related security mechanisms. Today, ICS security is increasingly becoming a part of the corporate organization, falling under the auspices of the Chief Information Security Officer (CISO). Yet, this isn’t about IT stepping in and running the oil field or the refinery. Even with CISO accountability, the engineering organization is still responsible for developing the right solutions and deploying them at the sites. Implementing a cyber security program within the ICS domain additionally poses some distinct talent management challenges. The job profile often requires people to be stationed at sites for a number of years. Without providing them with a clear career path, two things could happen: 1. IT professionals who are forced into an ICS security role will consider the program as merely a sideline activity and will not actively contribute. 2. Security savvy professionals will quickly reach their peak at a site and then will search for another organization. Ideally, the organization should develop an awareness program to bridge the gap between IT and ICS professionals, as well as a career development path for those wishing to specialize in ICS security. This path often starts with an entry‑level site analyst position and progresses to a global security role within the organization.Implementing a cyber security program within the ICS domain additionally poses some distinct talent management challenges. 10An integrated approach to combat cyber risk | Securing industrial operations in oil and gas', metadata={'source': '/content/drive/MyDrive/POVs/Test PDF/intergrated-approach-combat-cyber-risk-oil-gas.pdf', 'page': 11}),\n",
              " Document(page_content='Conclusion In the past few years, the oil and gas industry has seen the traditional boundaries between corporate IT and ICS largely disappear. Today, the evolution continues with the digitization of the oil and gas field. As this interconnectedness marches on, so does the frequency and sophistication of cyber attacks. However, most companies have not kept pace in terms of their preparedness.The place to start is assessing the maturity of the cyber security controls environment. Going beyond traditional operational safety considerations to implement a secure, vigilant, and resilient program is not only essential for enhancing an oil and gas company’s ability to protect operational integrity amid a growing range of cyber threats, but also to achieve operational excellence by taking advantage of the productivity benefits offered by a digitized, fully integrated ICS environment.The call to bridge the cyber‑readiness gap has never been louder, with growing public awareness of cyber crime and the potentially disastrous impact it can have on critical infrastructure. 11An integrated approach to combat cyber risk | Securing industrial operations in oil and gas', metadata={'source': '/content/drive/MyDrive/POVs/Test PDF/intergrated-approach-combat-cyber-risk-oil-gas.pdf', 'page': 12}),\n",
              " Document(page_content='Contact us Deloitte can assist you in conducting a cyber security maturity assessment. For more information, contact one of our risk management professionals below: Authors Paul Zonneveld Global Energy & Resources – Risk Advisory Leader Deloitte Canada +1 403 503 1356 pzonneveld@deloitte.caAndrew Slaughter Executive Director – Deloitte Center for Energy Solutions Deloitte US +1 713 982 3526 anslaughter@deloitte.com Global contacts Anton Botes Global Leader – Oil & Gas Deloitte Touche Tohmatsu Limited +27 11 806 5197 abotes@deloitte.co.za Paul Zonneveld Global Energy & Resources – Risk Advisory Leader Deloitte Canada +1 403 503 1356 pzonneveld@deloitte.ca Dina Kamal National Energy & Resources – Risk Advisory Leader Deloitte Canada +1 416 775 7414 dkamal@deloitte.ca Amir Belkhelladi Risk Advisory – Partner Deloitte Canada +1 514 393 7035 abelkhelladi@deloitte.ca Tiaan van Schalkwyk Risk Advisory – Associate Director Deloitte Africa +27 11 806 5167 tvanschalkwyk@deloitte.co.zaRajeev Chopra Global Leader – Energy & Resources Deloitte Touche Tohmatsu Limited +44 20 7007 2933 rchopra@deloitte.co.uk Steve Livingston National Power & Utilities – Risk Advisory Leader Deloitte US +1 206 716 7539 slivingston@deloitte.com Ramsey Hajj Risk Advisory – Senior Manager Deloitte US +1 561 962 7843 rhajj@deloitte.com Marko Van Zwam Risk Advisory – Partner Deloitte Netherlands +31 88 288 0890 MvanZwam@deloitte.nl Charles Hosner Risk Advisory – Partner Deloitte UK +44 20 7007 2827 chosner@deloitte.co.uk Rob Hayes Risk Advisory – Director Deloitte UK +44 20 7007 2606 rjhayes@deloitte.co.uk 12An integrated approach to combat cyber risk | Securing industrial operations in oil and gas', metadata={'source': '/content/drive/MyDrive/POVs/Test PDF/intergrated-approach-combat-cyber-risk-oil-gas.pdf', 'page': 13}),\n",
              " Document(page_content='Deloitte refers to one or more of Deloitte Touche Tohmatsu Limited, a UK private company limited by guarantee (“DTTL”), its network of member firms, and their related entities. DTTL and each of its member firms are legally separate and independent entities. DTTL (also referred to as “Deloitte Global”) does not provide services to clients. Please see www.deloitte.com/about for a more detailed description of DTTL and its member firms. Deloitte provides audit, tax, consulting, and financial advisory services to public and private clients spanning multiple industries. With a globally connected network of member firms in more than 150 countries and territories, Deloitte brings world‑class capabilities and high‑quality service to clients, delivering the insights they need to address their most complex business challenges. Deloitte’s more than 200,000 professionals are committed to becoming the standard of excellence. © 2017. For information, contact Deloitte Touche Tohmatsu Limited. Designed and produced by The Creative Studio at Deloitte, London. J11747', metadata={'source': '/content/drive/MyDrive/POVs/Test PDF/intergrated-approach-combat-cyber-risk-oil-gas.pdf', 'page': 15})]"
            ]
          },
          "metadata": {},
          "execution_count": 11
        }
      ]
    },
    {
      "cell_type": "code",
      "source": [
        "# !pip install -qqq chromadb==0.4.5 --progress-bar off"
      ],
      "metadata": {
        "colab": {
          "base_uri": "https://localhost:8080/"
        },
        "id": "lYjyYNPazNG1",
        "outputId": "0dba7602-e9a3-4c6c-96ec-95bdf9bad53e"
      },
      "execution_count": 12,
      "outputs": [
        {
          "output_type": "stream",
          "name": "stdout",
          "text": [
            "  Installing build dependencies ... \u001b[?25l\u001b[?25hdone\n",
            "  Getting requirements to build wheel ... \u001b[?25l\u001b[?25hdone\n",
            "  Preparing metadata (pyproject.toml) ... \u001b[?25l\u001b[?25hdone\n",
            "  Installing build dependencies ... \u001b[?25l\u001b[?25hdone\n",
            "  Getting requirements to build wheel ... \u001b[?25l\u001b[?25hdone\n",
            "  Preparing metadata (pyproject.toml) ... \u001b[?25l\u001b[?25hdone\n",
            "  Building wheel for chroma-hnswlib (pyproject.toml) ... \u001b[?25l\u001b[?25hdone\n",
            "  Building wheel for pypika (pyproject.toml) ... \u001b[?25l\u001b[?25hdone\n",
            "\u001b[31mERROR: pip's dependency resolver does not currently take into account all the packages that are installed. This behaviour is the source of the following dependency conflicts.\n",
            "lida 0.0.10 requires kaleido, which is not installed.\n",
            "lida 0.0.10 requires python-multipart, which is not installed.\u001b[0m\u001b[31m\n",
            "\u001b[0m"
          ]
        }
      ]
    },
    {
      "cell_type": "code",
      "source": [
        "from langchain_openai import OpenAIEmbeddings"
      ],
      "metadata": {
        "id": "zXfUBoSR0NR8"
      },
      "execution_count": 18,
      "outputs": []
    },
    {
      "cell_type": "code",
      "source": [
        "# Create vector store\n",
        "embeddings = OpenAIEmbeddings()\n",
        "#vectorstore = Chroma.from_documents(data, embeddings)\n",
        "vectorstore = FAISS.from_documents(data, embedding=embeddings)"
      ],
      "metadata": {
        "id": "vTA2cOJ0BKAF",
        "colab": {
          "base_uri": "https://localhost:8080/",
          "height": 374
        },
        "outputId": "36f9523a-8fa1-45c9-b313-378806b8ff1d"
      },
      "execution_count": 19,
      "outputs": [
        {
          "output_type": "error",
          "ename": "AuthenticationError",
          "evalue": "Error code: 401 - {'error': {'message': 'Incorrect API key provided: ea5dac28********************4f35. You can find your API key at https://platform.openai.com/account/api-keys.', 'type': 'invalid_request_error', 'param': None, 'code': 'invalid_api_key'}}",
          "traceback": [
            "\u001b[0;31m---------------------------------------------------------------------------\u001b[0m",
            "\u001b[0;31mAuthenticationError\u001b[0m                       Traceback (most recent call last)",
            "\u001b[0;32m<ipython-input-19-c6c518258163>\u001b[0m in \u001b[0;36m<cell line: 4>\u001b[0;34m()\u001b[0m\n\u001b[1;32m      2\u001b[0m \u001b[0membeddings\u001b[0m \u001b[0;34m=\u001b[0m \u001b[0mOpenAIEmbeddings\u001b[0m\u001b[0;34m(\u001b[0m\u001b[0;34m)\u001b[0m\u001b[0;34m\u001b[0m\u001b[0;34m\u001b[0m\u001b[0m\n\u001b[1;32m      3\u001b[0m \u001b[0;31m#vectorstore = Chroma.from_documents(data, embeddings)\u001b[0m\u001b[0;34m\u001b[0m\u001b[0;34m\u001b[0m\u001b[0m\n\u001b[0;32m----> 4\u001b[0;31m \u001b[0mvectorstore\u001b[0m \u001b[0;34m=\u001b[0m \u001b[0mFAISS\u001b[0m\u001b[0;34m.\u001b[0m\u001b[0mfrom_documents\u001b[0m\u001b[0;34m(\u001b[0m\u001b[0mdata\u001b[0m\u001b[0;34m,\u001b[0m \u001b[0membedding\u001b[0m\u001b[0;34m=\u001b[0m\u001b[0membeddings\u001b[0m\u001b[0;34m)\u001b[0m\u001b[0;34m\u001b[0m\u001b[0;34m\u001b[0m\u001b[0m\n\u001b[0m",
            "\u001b[0;32m/usr/local/lib/python3.10/dist-packages/langchain_core/vectorstores.py\u001b[0m in \u001b[0;36mfrom_documents\u001b[0;34m(cls, documents, embedding, **kwargs)\u001b[0m\n\u001b[1;32m    506\u001b[0m         \u001b[0mtexts\u001b[0m \u001b[0;34m=\u001b[0m \u001b[0;34m[\u001b[0m\u001b[0md\u001b[0m\u001b[0;34m.\u001b[0m\u001b[0mpage_content\u001b[0m \u001b[0;32mfor\u001b[0m \u001b[0md\u001b[0m \u001b[0;32min\u001b[0m \u001b[0mdocuments\u001b[0m\u001b[0;34m]\u001b[0m\u001b[0;34m\u001b[0m\u001b[0;34m\u001b[0m\u001b[0m\n\u001b[1;32m    507\u001b[0m         \u001b[0mmetadatas\u001b[0m \u001b[0;34m=\u001b[0m \u001b[0;34m[\u001b[0m\u001b[0md\u001b[0m\u001b[0;34m.\u001b[0m\u001b[0mmetadata\u001b[0m \u001b[0;32mfor\u001b[0m \u001b[0md\u001b[0m \u001b[0;32min\u001b[0m \u001b[0mdocuments\u001b[0m\u001b[0;34m]\u001b[0m\u001b[0;34m\u001b[0m\u001b[0;34m\u001b[0m\u001b[0m\n\u001b[0;32m--> 508\u001b[0;31m         \u001b[0;32mreturn\u001b[0m \u001b[0mcls\u001b[0m\u001b[0;34m.\u001b[0m\u001b[0mfrom_texts\u001b[0m\u001b[0;34m(\u001b[0m\u001b[0mtexts\u001b[0m\u001b[0;34m,\u001b[0m \u001b[0membedding\u001b[0m\u001b[0;34m,\u001b[0m \u001b[0mmetadatas\u001b[0m\u001b[0;34m=\u001b[0m\u001b[0mmetadatas\u001b[0m\u001b[0;34m,\u001b[0m \u001b[0;34m**\u001b[0m\u001b[0mkwargs\u001b[0m\u001b[0;34m)\u001b[0m\u001b[0;34m\u001b[0m\u001b[0;34m\u001b[0m\u001b[0m\n\u001b[0m\u001b[1;32m    509\u001b[0m \u001b[0;34m\u001b[0m\u001b[0m\n\u001b[1;32m    510\u001b[0m     \u001b[0;34m@\u001b[0m\u001b[0mclassmethod\u001b[0m\u001b[0;34m\u001b[0m\u001b[0;34m\u001b[0m\u001b[0m\n",
            "\u001b[0;32m/usr/local/lib/python3.10/dist-packages/langchain_community/vectorstores/faiss.py\u001b[0m in \u001b[0;36mfrom_texts\u001b[0;34m(cls, texts, embedding, metadatas, ids, **kwargs)\u001b[0m\n\u001b[1;32m    911\u001b[0m                 \u001b[0mfaiss\u001b[0m \u001b[0;34m=\u001b[0m \u001b[0mFAISS\u001b[0m\u001b[0;34m.\u001b[0m\u001b[0mfrom_texts\u001b[0m\u001b[0;34m(\u001b[0m\u001b[0mtexts\u001b[0m\u001b[0;34m,\u001b[0m \u001b[0membeddings\u001b[0m\u001b[0;34m)\u001b[0m\u001b[0;34m\u001b[0m\u001b[0;34m\u001b[0m\u001b[0m\n\u001b[1;32m    912\u001b[0m         \"\"\"\n\u001b[0;32m--> 913\u001b[0;31m         \u001b[0membeddings\u001b[0m \u001b[0;34m=\u001b[0m \u001b[0membedding\u001b[0m\u001b[0;34m.\u001b[0m\u001b[0membed_documents\u001b[0m\u001b[0;34m(\u001b[0m\u001b[0mtexts\u001b[0m\u001b[0;34m)\u001b[0m\u001b[0;34m\u001b[0m\u001b[0;34m\u001b[0m\u001b[0m\n\u001b[0m\u001b[1;32m    914\u001b[0m         return cls.__from(\n\u001b[1;32m    915\u001b[0m             \u001b[0mtexts\u001b[0m\u001b[0;34m,\u001b[0m\u001b[0;34m\u001b[0m\u001b[0;34m\u001b[0m\u001b[0m\n",
            "\u001b[0;32m/usr/local/lib/python3.10/dist-packages/langchain_openai/embeddings/base.py\u001b[0m in \u001b[0;36membed_documents\u001b[0;34m(self, texts, chunk_size)\u001b[0m\n\u001b[1;32m    465\u001b[0m         \u001b[0;31m#       than the maximum context and use length-safe embedding function.\u001b[0m\u001b[0;34m\u001b[0m\u001b[0;34m\u001b[0m\u001b[0m\n\u001b[1;32m    466\u001b[0m         \u001b[0mengine\u001b[0m \u001b[0;34m=\u001b[0m \u001b[0mcast\u001b[0m\u001b[0;34m(\u001b[0m\u001b[0mstr\u001b[0m\u001b[0;34m,\u001b[0m \u001b[0mself\u001b[0m\u001b[0;34m.\u001b[0m\u001b[0mdeployment\u001b[0m\u001b[0;34m)\u001b[0m\u001b[0;34m\u001b[0m\u001b[0;34m\u001b[0m\u001b[0m\n\u001b[0;32m--> 467\u001b[0;31m         \u001b[0;32mreturn\u001b[0m \u001b[0mself\u001b[0m\u001b[0;34m.\u001b[0m\u001b[0m_get_len_safe_embeddings\u001b[0m\u001b[0;34m(\u001b[0m\u001b[0mtexts\u001b[0m\u001b[0;34m,\u001b[0m \u001b[0mengine\u001b[0m\u001b[0;34m=\u001b[0m\u001b[0mengine\u001b[0m\u001b[0;34m)\u001b[0m\u001b[0;34m\u001b[0m\u001b[0;34m\u001b[0m\u001b[0m\n\u001b[0m\u001b[1;32m    468\u001b[0m \u001b[0;34m\u001b[0m\u001b[0m\n\u001b[1;32m    469\u001b[0m     async def aembed_documents(\n",
            "\u001b[0;32m/usr/local/lib/python3.10/dist-packages/langchain_openai/embeddings/base.py\u001b[0m in \u001b[0;36m_get_len_safe_embeddings\u001b[0;34m(self, texts, engine, chunk_size)\u001b[0m\n\u001b[1;32m    308\u001b[0m         \u001b[0mbatched_embeddings\u001b[0m\u001b[0;34m:\u001b[0m \u001b[0mList\u001b[0m\u001b[0;34m[\u001b[0m\u001b[0mList\u001b[0m\u001b[0;34m[\u001b[0m\u001b[0mfloat\u001b[0m\u001b[0;34m]\u001b[0m\u001b[0;34m]\u001b[0m \u001b[0;34m=\u001b[0m \u001b[0;34m[\u001b[0m\u001b[0;34m]\u001b[0m\u001b[0;34m\u001b[0m\u001b[0;34m\u001b[0m\u001b[0m\n\u001b[1;32m    309\u001b[0m         \u001b[0;32mfor\u001b[0m \u001b[0mi\u001b[0m \u001b[0;32min\u001b[0m \u001b[0m_iter\u001b[0m\u001b[0;34m:\u001b[0m\u001b[0;34m\u001b[0m\u001b[0;34m\u001b[0m\u001b[0m\n\u001b[0;32m--> 310\u001b[0;31m             response = self.client.create(\n\u001b[0m\u001b[1;32m    311\u001b[0m                 \u001b[0minput\u001b[0m\u001b[0;34m=\u001b[0m\u001b[0mtokens\u001b[0m\u001b[0;34m[\u001b[0m\u001b[0mi\u001b[0m \u001b[0;34m:\u001b[0m \u001b[0mi\u001b[0m \u001b[0;34m+\u001b[0m \u001b[0m_chunk_size\u001b[0m\u001b[0;34m]\u001b[0m\u001b[0;34m,\u001b[0m \u001b[0;34m**\u001b[0m\u001b[0mself\u001b[0m\u001b[0;34m.\u001b[0m\u001b[0m_invocation_params\u001b[0m\u001b[0;34m\u001b[0m\u001b[0;34m\u001b[0m\u001b[0m\n\u001b[1;32m    312\u001b[0m             )\n",
            "\u001b[0;32m/usr/local/lib/python3.10/dist-packages/openai/resources/embeddings.py\u001b[0m in \u001b[0;36mcreate\u001b[0;34m(self, input, model, dimensions, encoding_format, user, extra_headers, extra_query, extra_body, timeout)\u001b[0m\n\u001b[1;32m    111\u001b[0m             \u001b[0;32mreturn\u001b[0m \u001b[0mobj\u001b[0m\u001b[0;34m\u001b[0m\u001b[0;34m\u001b[0m\u001b[0m\n\u001b[1;32m    112\u001b[0m \u001b[0;34m\u001b[0m\u001b[0m\n\u001b[0;32m--> 113\u001b[0;31m         return self._post(\n\u001b[0m\u001b[1;32m    114\u001b[0m             \u001b[0;34m\"/embeddings\"\u001b[0m\u001b[0;34m,\u001b[0m\u001b[0;34m\u001b[0m\u001b[0;34m\u001b[0m\u001b[0m\n\u001b[1;32m    115\u001b[0m             \u001b[0mbody\u001b[0m\u001b[0;34m=\u001b[0m\u001b[0mmaybe_transform\u001b[0m\u001b[0;34m(\u001b[0m\u001b[0mparams\u001b[0m\u001b[0;34m,\u001b[0m \u001b[0membedding_create_params\u001b[0m\u001b[0;34m.\u001b[0m\u001b[0mEmbeddingCreateParams\u001b[0m\u001b[0;34m)\u001b[0m\u001b[0;34m,\u001b[0m\u001b[0;34m\u001b[0m\u001b[0;34m\u001b[0m\u001b[0m\n",
            "\u001b[0;32m/usr/local/lib/python3.10/dist-packages/openai/_base_client.py\u001b[0m in \u001b[0;36mpost\u001b[0;34m(self, path, cast_to, body, options, files, stream, stream_cls)\u001b[0m\n\u001b[1;32m   1178\u001b[0m             \u001b[0mmethod\u001b[0m\u001b[0;34m=\u001b[0m\u001b[0;34m\"post\"\u001b[0m\u001b[0;34m,\u001b[0m \u001b[0murl\u001b[0m\u001b[0;34m=\u001b[0m\u001b[0mpath\u001b[0m\u001b[0;34m,\u001b[0m \u001b[0mjson_data\u001b[0m\u001b[0;34m=\u001b[0m\u001b[0mbody\u001b[0m\u001b[0;34m,\u001b[0m \u001b[0mfiles\u001b[0m\u001b[0;34m=\u001b[0m\u001b[0mto_httpx_files\u001b[0m\u001b[0;34m(\u001b[0m\u001b[0mfiles\u001b[0m\u001b[0;34m)\u001b[0m\u001b[0;34m,\u001b[0m \u001b[0;34m**\u001b[0m\u001b[0moptions\u001b[0m\u001b[0;34m\u001b[0m\u001b[0;34m\u001b[0m\u001b[0m\n\u001b[1;32m   1179\u001b[0m         )\n\u001b[0;32m-> 1180\u001b[0;31m         \u001b[0;32mreturn\u001b[0m \u001b[0mcast\u001b[0m\u001b[0;34m(\u001b[0m\u001b[0mResponseT\u001b[0m\u001b[0;34m,\u001b[0m \u001b[0mself\u001b[0m\u001b[0;34m.\u001b[0m\u001b[0mrequest\u001b[0m\u001b[0;34m(\u001b[0m\u001b[0mcast_to\u001b[0m\u001b[0;34m,\u001b[0m \u001b[0mopts\u001b[0m\u001b[0;34m,\u001b[0m \u001b[0mstream\u001b[0m\u001b[0;34m=\u001b[0m\u001b[0mstream\u001b[0m\u001b[0;34m,\u001b[0m \u001b[0mstream_cls\u001b[0m\u001b[0;34m=\u001b[0m\u001b[0mstream_cls\u001b[0m\u001b[0;34m)\u001b[0m\u001b[0;34m)\u001b[0m\u001b[0;34m\u001b[0m\u001b[0;34m\u001b[0m\u001b[0m\n\u001b[0m\u001b[1;32m   1181\u001b[0m \u001b[0;34m\u001b[0m\u001b[0m\n\u001b[1;32m   1182\u001b[0m     def patch(\n",
            "\u001b[0;32m/usr/local/lib/python3.10/dist-packages/openai/_base_client.py\u001b[0m in \u001b[0;36mrequest\u001b[0;34m(self, cast_to, options, remaining_retries, stream, stream_cls)\u001b[0m\n\u001b[1;32m    867\u001b[0m         \u001b[0mstream_cls\u001b[0m\u001b[0;34m:\u001b[0m \u001b[0mtype\u001b[0m\u001b[0;34m[\u001b[0m\u001b[0m_StreamT\u001b[0m\u001b[0;34m]\u001b[0m \u001b[0;34m|\u001b[0m \u001b[0;32mNone\u001b[0m \u001b[0;34m=\u001b[0m \u001b[0;32mNone\u001b[0m\u001b[0;34m,\u001b[0m\u001b[0;34m\u001b[0m\u001b[0;34m\u001b[0m\u001b[0m\n\u001b[1;32m    868\u001b[0m     ) -> ResponseT | _StreamT:\n\u001b[0;32m--> 869\u001b[0;31m         return self._request(\n\u001b[0m\u001b[1;32m    870\u001b[0m             \u001b[0mcast_to\u001b[0m\u001b[0;34m=\u001b[0m\u001b[0mcast_to\u001b[0m\u001b[0;34m,\u001b[0m\u001b[0;34m\u001b[0m\u001b[0;34m\u001b[0m\u001b[0m\n\u001b[1;32m    871\u001b[0m             \u001b[0moptions\u001b[0m\u001b[0;34m=\u001b[0m\u001b[0moptions\u001b[0m\u001b[0;34m,\u001b[0m\u001b[0;34m\u001b[0m\u001b[0;34m\u001b[0m\u001b[0m\n",
            "\u001b[0;32m/usr/local/lib/python3.10/dist-packages/openai/_base_client.py\u001b[0m in \u001b[0;36m_request\u001b[0;34m(self, cast_to, options, remaining_retries, stream, stream_cls)\u001b[0m\n\u001b[1;32m    958\u001b[0m \u001b[0;34m\u001b[0m\u001b[0m\n\u001b[1;32m    959\u001b[0m             \u001b[0mlog\u001b[0m\u001b[0;34m.\u001b[0m\u001b[0mdebug\u001b[0m\u001b[0;34m(\u001b[0m\u001b[0;34m\"Re-raising status error\"\u001b[0m\u001b[0;34m)\u001b[0m\u001b[0;34m\u001b[0m\u001b[0;34m\u001b[0m\u001b[0m\n\u001b[0;32m--> 960\u001b[0;31m             \u001b[0;32mraise\u001b[0m \u001b[0mself\u001b[0m\u001b[0;34m.\u001b[0m\u001b[0m_make_status_error_from_response\u001b[0m\u001b[0;34m(\u001b[0m\u001b[0merr\u001b[0m\u001b[0;34m.\u001b[0m\u001b[0mresponse\u001b[0m\u001b[0;34m)\u001b[0m \u001b[0;32mfrom\u001b[0m \u001b[0;32mNone\u001b[0m\u001b[0;34m\u001b[0m\u001b[0;34m\u001b[0m\u001b[0m\n\u001b[0m\u001b[1;32m    961\u001b[0m \u001b[0;34m\u001b[0m\u001b[0m\n\u001b[1;32m    962\u001b[0m         return self._process_response(\n",
            "\u001b[0;31mAuthenticationError\u001b[0m: Error code: 401 - {'error': {'message': 'Incorrect API key provided: ea5dac28********************4f35. You can find your API key at https://platform.openai.com/account/api-keys.', 'type': 'invalid_request_error', 'param': None, 'code': 'invalid_api_key'}}"
          ]
        }
      ]
    },
    {
      "cell_type": "code",
      "source": [
        "# # Create conversation chain\n",
        "# llm = ChatOpenAI(temperature=0.7, model_name=\"gpt-4\")\n",
        "# memory = ConversationBufferMemory(\n",
        "# memory_key='chat_history', return_messages=True)\n",
        "# conversation_chain = ConversationalRetrievalChain.from_llm(\n",
        "#         llm=llm,\n",
        "#         chain_type=\"stuff\",\n",
        "#         retriever=vectorstore.as_retriever(),\n",
        "#         memory=memory\n",
        "#         )"
      ],
      "metadata": {
        "id": "qZOmPg9pBxHP"
      },
      "execution_count": null,
      "outputs": []
    },
    {
      "cell_type": "code",
      "source": [
        "llm = AzureChatOpenAI(deployment_name=\"GPT4\",\n",
        "                      model_name=\"gpt-4\",\n",
        "                      openai_api_base=\"https://genai-gpt.openai.azure.com/\",\n",
        "                      openai_api_version=\"2023-07-01-preview\",\n",
        "                      openai_api_key=\"ea5dac28837a4a91bca6367973174f35\",\n",
        "                      openai_api_type=\"azure\",\n",
        "                      temperature=0.5)"
      ],
      "metadata": {
        "id": "mKjw3NW_N7jQ"
      },
      "execution_count": null,
      "outputs": []
    },
    {
      "cell_type": "code",
      "source": [
        "memory = ConversationBufferMemory(\n",
        "\n",
        "memory_key='chat_history', return_messages=True)\n",
        "\n",
        "conversation_chain = ConversationalRetrievalChain.from_llm(\n",
        "        llm=llm,\n",
        "        chain_type=\"stuff\",\n",
        "        retriever=vectorstore.as_retriever(),\n",
        "        memory=memory\n",
        "        )"
      ],
      "metadata": {
        "id": "-E7XoS-rnmda"
      },
      "execution_count": null,
      "outputs": []
    },
    {
      "cell_type": "code",
      "source": [
        "query = \"Explain the integrated approach to combat cyber risk proposed by Deloitte.\"\n",
        "result = conversation_chain({\"question\": query})\n",
        "answer = result[\"answer\"]\n",
        "answer"
      ],
      "metadata": {
        "id": "JwKJnv5wERXn"
      },
      "execution_count": null,
      "outputs": []
    },
    {
      "cell_type": "code",
      "source": [
        "query = \"What are the upstream cyberthreats?\"\n",
        "result = conversation_chain({\"question\": query})\n",
        "answer = result[\"answer\"]\n",
        "answer"
      ],
      "metadata": {
        "id": "5KO8JLf9EZ5Y"
      },
      "execution_count": null,
      "outputs": []
    },
    {
      "cell_type": "code",
      "source": [
        "query = \"Who are the authors of this document?\"\n",
        "result = conversation_chain({\"question\": query})\n",
        "answer = result[\"answer\"]\n",
        "answer"
      ],
      "metadata": {
        "id": "Bs_9KhtC6gxk"
      },
      "execution_count": null,
      "outputs": []
    },
    {
      "cell_type": "code",
      "source": [
        "query = \"Who are the threat actors\"\n",
        "result = conversation_chain({\"question\": query})\n",
        "answer = result[\"answer\"]\n",
        "answer"
      ],
      "metadata": {
        "id": "QV8pubDB86iv"
      },
      "execution_count": null,
      "outputs": []
    }
  ]
}