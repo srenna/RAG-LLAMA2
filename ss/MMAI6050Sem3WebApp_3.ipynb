{
  "cells": [
    {
      "cell_type": "code",
      "execution_count": 1,
      "metadata": {
        "colab": {
          "base_uri": "https://localhost:8080/"
        },
        "id": "iiJ4XFPE7PSj",
        "outputId": "3abdf969-4667-493e-c1cc-c93ae740724d"
      },
      "outputs": [
        {
          "name": "stdout",
          "output_type": "stream",
          "text": [
            "Requirement already satisfied: pdfplumber in /Users/sabrinarenna/anaconda3/lib/python3.11/site-packages (0.9.0)\n",
            "Requirement already satisfied: pdfminer.six==20221105 in /Users/sabrinarenna/anaconda3/lib/python3.11/site-packages (from pdfplumber) (20221105)\n",
            "Requirement already satisfied: Pillow>=9.1 in /Users/sabrinarenna/anaconda3/lib/python3.11/site-packages (from pdfplumber) (9.4.0)\n",
            "Requirement already satisfied: Wand>=0.6.10 in /Users/sabrinarenna/anaconda3/lib/python3.11/site-packages (from pdfplumber) (0.6.11)\n",
            "Requirement already satisfied: charset-normalizer>=2.0.0 in /Users/sabrinarenna/anaconda3/lib/python3.11/site-packages (from pdfminer.six==20221105->pdfplumber) (2.0.4)\n",
            "Requirement already satisfied: cryptography>=36.0.0 in /Users/sabrinarenna/anaconda3/lib/python3.11/site-packages (from pdfminer.six==20221105->pdfplumber) (41.0.2)\n",
            "Requirement already satisfied: cffi>=1.12 in /Users/sabrinarenna/anaconda3/lib/python3.11/site-packages (from cryptography>=36.0.0->pdfminer.six==20221105->pdfplumber) (1.15.1)\n",
            "Requirement already satisfied: pycparser in /Users/sabrinarenna/anaconda3/lib/python3.11/site-packages (from cffi>=1.12->cryptography>=36.0.0->pdfminer.six==20221105->pdfplumber) (2.21)\n",
            "Collecting streamlit_option_menu\n",
            "  Obtaining dependency information for streamlit_option_menu from https://files.pythonhosted.org/packages/d9/e5/a04e14be8b5faf9c20d330f84490b4184d2bec558719c1def1824cc4862d/streamlit_option_menu-0.3.12-py3-none-any.whl.metadata\n",
            "  Downloading streamlit_option_menu-0.3.12-py3-none-any.whl.metadata (2.5 kB)\n",
            "Requirement already satisfied: streamlit>=0.63 in /Users/sabrinarenna/anaconda3/lib/python3.11/site-packages (from streamlit_option_menu) (1.29.0)\n",
            "Requirement already satisfied: altair<6,>=4.0 in /Users/sabrinarenna/anaconda3/lib/python3.11/site-packages (from streamlit>=0.63->streamlit_option_menu) (5.2.0)\n",
            "Requirement already satisfied: blinker<2,>=1.0.0 in /Users/sabrinarenna/anaconda3/lib/python3.11/site-packages (from streamlit>=0.63->streamlit_option_menu) (1.7.0)\n",
            "Requirement already satisfied: cachetools<6,>=4.0 in /Users/sabrinarenna/anaconda3/lib/python3.11/site-packages (from streamlit>=0.63->streamlit_option_menu) (5.3.1)\n",
            "Requirement already satisfied: click<9,>=7.0 in /Users/sabrinarenna/anaconda3/lib/python3.11/site-packages (from streamlit>=0.63->streamlit_option_menu) (8.0.4)\n",
            "Requirement already satisfied: importlib-metadata<7,>=1.4 in /Users/sabrinarenna/anaconda3/lib/python3.11/site-packages (from streamlit>=0.63->streamlit_option_menu) (6.0.0)\n",
            "Requirement already satisfied: numpy<2,>=1.19.3 in /Users/sabrinarenna/anaconda3/lib/python3.11/site-packages (from streamlit>=0.63->streamlit_option_menu) (1.24.3)\n",
            "Requirement already satisfied: packaging<24,>=16.8 in /Users/sabrinarenna/anaconda3/lib/python3.11/site-packages (from streamlit>=0.63->streamlit_option_menu) (23.2)\n",
            "Requirement already satisfied: pandas<3,>=1.3.0 in /Users/sabrinarenna/anaconda3/lib/python3.11/site-packages (from streamlit>=0.63->streamlit_option_menu) (2.2.0)\n",
            "Requirement already satisfied: pillow<11,>=7.1.0 in /Users/sabrinarenna/anaconda3/lib/python3.11/site-packages (from streamlit>=0.63->streamlit_option_menu) (9.4.0)\n",
            "Requirement already satisfied: protobuf<5,>=3.20 in /Users/sabrinarenna/anaconda3/lib/python3.11/site-packages (from streamlit>=0.63->streamlit_option_menu) (4.25.2)\n",
            "Requirement already satisfied: pyarrow>=6.0 in /Users/sabrinarenna/anaconda3/lib/python3.11/site-packages (from streamlit>=0.63->streamlit_option_menu) (11.0.0)\n",
            "Requirement already satisfied: python-dateutil<3,>=2.7.3 in /Users/sabrinarenna/anaconda3/lib/python3.11/site-packages (from streamlit>=0.63->streamlit_option_menu) (2.8.2)\n",
            "Requirement already satisfied: requests<3,>=2.27 in /Users/sabrinarenna/anaconda3/lib/python3.11/site-packages (from streamlit>=0.63->streamlit_option_menu) (2.31.0)\n",
            "Requirement already satisfied: rich<14,>=10.14.0 in /Users/sabrinarenna/anaconda3/lib/python3.11/site-packages (from streamlit>=0.63->streamlit_option_menu) (13.7.0)\n",
            "Requirement already satisfied: tenacity<9,>=8.1.0 in /Users/sabrinarenna/anaconda3/lib/python3.11/site-packages (from streamlit>=0.63->streamlit_option_menu) (8.2.2)\n",
            "Requirement already satisfied: toml<2,>=0.10.1 in /Users/sabrinarenna/anaconda3/lib/python3.11/site-packages (from streamlit>=0.63->streamlit_option_menu) (0.10.2)\n",
            "Requirement already satisfied: typing-extensions<5,>=4.3.0 in /Users/sabrinarenna/anaconda3/lib/python3.11/site-packages (from streamlit>=0.63->streamlit_option_menu) (4.8.0)\n",
            "Requirement already satisfied: tzlocal<6,>=1.1 in /Users/sabrinarenna/anaconda3/lib/python3.11/site-packages (from streamlit>=0.63->streamlit_option_menu) (5.2)\n",
            "Requirement already satisfied: validators<1,>=0.2 in /Users/sabrinarenna/anaconda3/lib/python3.11/site-packages (from streamlit>=0.63->streamlit_option_menu) (0.22.0)\n",
            "Requirement already satisfied: gitpython!=3.1.19,<4,>=3.0.7 in /Users/sabrinarenna/anaconda3/lib/python3.11/site-packages (from streamlit>=0.63->streamlit_option_menu) (3.1.37)\n",
            "Requirement already satisfied: pydeck<1,>=0.8.0b4 in /Users/sabrinarenna/anaconda3/lib/python3.11/site-packages (from streamlit>=0.63->streamlit_option_menu) (0.8.1b0)\n",
            "Requirement already satisfied: tornado<7,>=6.0.3 in /Users/sabrinarenna/anaconda3/lib/python3.11/site-packages (from streamlit>=0.63->streamlit_option_menu) (6.3.2)\n",
            "Requirement already satisfied: jinja2 in /Users/sabrinarenna/anaconda3/lib/python3.11/site-packages (from altair<6,>=4.0->streamlit>=0.63->streamlit_option_menu) (3.1.2)\n",
            "Requirement already satisfied: jsonschema>=3.0 in /Users/sabrinarenna/anaconda3/lib/python3.11/site-packages (from altair<6,>=4.0->streamlit>=0.63->streamlit_option_menu) (4.17.3)\n",
            "Requirement already satisfied: toolz in /Users/sabrinarenna/anaconda3/lib/python3.11/site-packages (from altair<6,>=4.0->streamlit>=0.63->streamlit_option_menu) (0.12.0)\n",
            "Requirement already satisfied: gitdb<5,>=4.0.1 in /Users/sabrinarenna/anaconda3/lib/python3.11/site-packages (from gitpython!=3.1.19,<4,>=3.0.7->streamlit>=0.63->streamlit_option_menu) (4.0.10)\n",
            "Requirement already satisfied: zipp>=0.5 in /Users/sabrinarenna/anaconda3/lib/python3.11/site-packages (from importlib-metadata<7,>=1.4->streamlit>=0.63->streamlit_option_menu) (3.11.0)\n",
            "Requirement already satisfied: pytz>=2020.1 in /Users/sabrinarenna/anaconda3/lib/python3.11/site-packages (from pandas<3,>=1.3.0->streamlit>=0.63->streamlit_option_menu) (2022.7)\n",
            "Requirement already satisfied: tzdata>=2022.7 in /Users/sabrinarenna/anaconda3/lib/python3.11/site-packages (from pandas<3,>=1.3.0->streamlit>=0.63->streamlit_option_menu) (2023.4)\n",
            "Requirement already satisfied: six>=1.5 in /Users/sabrinarenna/anaconda3/lib/python3.11/site-packages (from python-dateutil<3,>=2.7.3->streamlit>=0.63->streamlit_option_menu) (1.16.0)\n",
            "Requirement already satisfied: charset-normalizer<4,>=2 in /Users/sabrinarenna/anaconda3/lib/python3.11/site-packages (from requests<3,>=2.27->streamlit>=0.63->streamlit_option_menu) (2.0.4)\n",
            "Requirement already satisfied: idna<4,>=2.5 in /Users/sabrinarenna/anaconda3/lib/python3.11/site-packages (from requests<3,>=2.27->streamlit>=0.63->streamlit_option_menu) (3.4)\n",
            "Requirement already satisfied: urllib3<3,>=1.21.1 in /Users/sabrinarenna/anaconda3/lib/python3.11/site-packages (from requests<3,>=2.27->streamlit>=0.63->streamlit_option_menu) (1.26.18)\n",
            "Requirement already satisfied: certifi>=2017.4.17 in /Users/sabrinarenna/anaconda3/lib/python3.11/site-packages (from requests<3,>=2.27->streamlit>=0.63->streamlit_option_menu) (2023.7.22)\n",
            "Requirement already satisfied: markdown-it-py>=2.2.0 in /Users/sabrinarenna/anaconda3/lib/python3.11/site-packages (from rich<14,>=10.14.0->streamlit>=0.63->streamlit_option_menu) (2.2.0)\n",
            "Requirement already satisfied: pygments<3.0.0,>=2.13.0 in /Users/sabrinarenna/anaconda3/lib/python3.11/site-packages (from rich<14,>=10.14.0->streamlit>=0.63->streamlit_option_menu) (2.15.1)\n",
            "Requirement already satisfied: smmap<6,>=3.0.1 in /Users/sabrinarenna/anaconda3/lib/python3.11/site-packages (from gitdb<5,>=4.0.1->gitpython!=3.1.19,<4,>=3.0.7->streamlit>=0.63->streamlit_option_menu) (5.0.1)\n",
            "Requirement already satisfied: MarkupSafe>=2.0 in /Users/sabrinarenna/anaconda3/lib/python3.11/site-packages (from jinja2->altair<6,>=4.0->streamlit>=0.63->streamlit_option_menu) (2.1.1)\n",
            "Requirement already satisfied: attrs>=17.4.0 in /Users/sabrinarenna/anaconda3/lib/python3.11/site-packages (from jsonschema>=3.0->altair<6,>=4.0->streamlit>=0.63->streamlit_option_menu) (22.1.0)\n",
            "Requirement already satisfied: pyrsistent!=0.17.0,!=0.17.1,!=0.17.2,>=0.14.0 in /Users/sabrinarenna/anaconda3/lib/python3.11/site-packages (from jsonschema>=3.0->altair<6,>=4.0->streamlit>=0.63->streamlit_option_menu) (0.18.0)\n",
            "Requirement already satisfied: mdurl~=0.1 in /Users/sabrinarenna/anaconda3/lib/python3.11/site-packages (from markdown-it-py>=2.2.0->rich<14,>=10.14.0->streamlit>=0.63->streamlit_option_menu) (0.1.0)\n",
            "Downloading streamlit_option_menu-0.3.12-py3-none-any.whl (822 kB)\n",
            "\u001b[2K   \u001b[90m━━━━━━━━━━━━━━━━━━━━━━━━━━━━━━━━━━━━━━━\u001b[0m \u001b[32m822.1/822.1 kB\u001b[0m \u001b[31m256.9 kB/s\u001b[0m eta \u001b[36m0:00:00\u001b[0m00:01\u001b[0m00:01\u001b[0m\n",
            "\u001b[?25hInstalling collected packages: streamlit_option_menu\n",
            "Successfully installed streamlit_option_menu-0.3.12\n",
            "\u001b[31mERROR: pip's dependency resolver does not currently take into account all the packages that are installed. This behaviour is the source of the following dependency conflicts.\n",
            "torchvision 0.16.0 requires torch==2.1.0, but you have torch 2.0.1 which is incompatible.\n",
            "pyabsa 2.4.0 requires protobuf<4.0.0, but you have protobuf 4.25.2 which is incompatible.\u001b[0m\u001b[31m\n",
            "\u001b[0m\u001b[31mERROR: pip's dependency resolver does not currently take into account all the packages that are installed. This behaviour is the source of the following dependency conflicts.\n",
            "trulens-eval 0.18.2 requires llama-index>=0.8.69, but you have llama-index 0.7.21 which is incompatible.\n",
            "pyabsa 2.4.0 requires protobuf<4.0.0, but you have protobuf 4.25.2 which is incompatible.\u001b[0m\u001b[31m\n",
            "\u001b[0m\u001b[31mERROR: pip's dependency resolver does not currently take into account all the packages that are installed. This behaviour is the source of the following dependency conflicts.\n",
            "langchain-experimental 0.0.50 requires langchain<0.2.0,>=0.1.5, but you have langchain 0.0.266 which is incompatible.\n",
            "trulens-eval 0.18.2 requires langchain>=0.0.335, but you have langchain 0.0.266 which is incompatible.\n",
            "trulens-eval 0.18.2 requires llama-index>=0.8.69, but you have llama-index 0.7.21 which is incompatible.\u001b[0m\u001b[31m\n",
            "\u001b[0m^C\n",
            "\u001b[31mERROR: Operation cancelled by user\u001b[0m\u001b[31m\n",
            "\u001b[0m"
          ]
        }
      ],
      "source": [
        "# Installations for the webapp\n",
        "!pip install -q streamlit\n",
        "!pip install pdfplumber\n",
        "!pip install streamlit_option_menu\n",
        "\n",
        "# Installations for the LLM\n",
        "!pip install -Uqqq pip --progress-bar off\n",
        "!pip install -qqq torch==2.0.1 --progress-bar off\n",
        "!pip install -qqq transformers==4.31.0 --progress-bar off\n",
        "!pip install -qqq langchain==0.0.266 --progress-bar off\n",
        "!pip install -qqq chromadb==0.4.5 --progress-bar off\n",
        "!pip install -qqq pypdf==3.15.0 --progress-bar off\n",
        "!pip install -qqq xformers==0.0.20 --progress-bar off\n",
        "!pip install -qqq sentence_transformers==2.2.2 --progress-bar off\n",
        "!pip install -qqq InstructorEmbedding==1.0.1 --progress-bar off\n",
        "!pip install -qqq pdf2image==1.16.3 --progress-bar off"
      ]
    },
    {
      "cell_type": "code",
      "execution_count": null,
      "metadata": {
        "colab": {
          "base_uri": "https://localhost:8080/"
        },
        "id": "C1njYXkB3pfn",
        "outputId": "01aedeb9-2b26-4498-a0ab-ad3eba9ca989"
      },
      "outputs": [],
      "source": [
        "!wget -q https://github.com/PanQiWei/AutoGPTQ/releases/download/v0.4.1/auto_gptq-0.4.1+cu118-cp310-cp310-linux_x86_64.whl\n",
        "!pip install -qqq auto_gptq-0.4.1+cu118-cp310-cp310-linux_x86_64.whl --progress-bar off\n",
        "!sudo apt-get install poppler-utils\n",
        "!pip install poppler-utils"
      ]
    },
    {
      "cell_type": "code",
      "execution_count": null,
      "metadata": {
        "colab": {
          "base_uri": "https://localhost:8080/"
        },
        "id": "Mgp_5kYQ7nys",
        "outputId": "904df904-8379-40a7-a1c2-8d232dadf13c"
      },
      "outputs": [],
      "source": [
        "!npm install localtunnel"
      ]
    },
    {
      "cell_type": "code",
      "execution_count": null,
      "metadata": {
        "id": "IRYAxlQA7wXN"
      },
      "outputs": [],
      "source": [
        "# Specify the name of your .py file after \"run\"\n",
        "\n",
        "# In this notebook we should run the these py files: Weel2_2UI and Weel2_3UI\n",
        "# !streamlit run Week3_3UI.py &>/content/logs.txt &"
      ]
    },
    {
      "cell_type": "code",
      "execution_count": null,
      "metadata": {
        "colab": {
          "base_uri": "https://localhost:8080/"
        },
        "id": "1AIdPsDXgvBr",
        "outputId": "a04b2508-7d04-4361-c0e7-1369cb726662"
      },
      "outputs": [],
      "source": [
        "pip install PyPDF2"
      ]
    },
    {
      "cell_type": "code",
      "execution_count": null,
      "metadata": {
        "id": "y6y2xPvI8t7P"
      },
      "outputs": [],
      "source": [
        "# !wget -q -O - https://loca.lt/mytunnelpassword"
      ]
    },
    {
      "cell_type": "code",
      "execution_count": null,
      "metadata": {
        "colab": {
          "base_uri": "https://localhost:8080/"
        },
        "id": "MCVDacqo6P_D",
        "outputId": "c5e1871b-1341-4426-ee18-f8cb45c9018e"
      },
      "outputs": [],
      "source": [
        "!wget -q -O - ipv4.icanhazip.com"
      ]
    },
    {
      "cell_type": "code",
      "execution_count": null,
      "metadata": {
        "colab": {
          "base_uri": "https://localhost:8080/"
        },
        "id": "DWeDgGzU709_",
        "outputId": "2f1a70e4-d725-44b9-f101-fb6c0db0f81f"
      },
      "outputs": [],
      "source": [
        "#!npx localtunnel --port 8501\n",
        "! streamlit run Week3_3.py & npx localtunnel --port 8501"
      ]
    }
  ],
  "metadata": {
    "colab": {
      "provenance": []
    },
    "kernelspec": {
      "display_name": "Python 3",
      "name": "python3"
    },
    "language_info": {
      "codemirror_mode": {
        "name": "ipython",
        "version": 3
      },
      "file_extension": ".py",
      "mimetype": "text/x-python",
      "name": "python",
      "nbconvert_exporter": "python",
      "pygments_lexer": "ipython3",
      "version": "3.11.7"
    }
  },
  "nbformat": 4,
  "nbformat_minor": 0
}
