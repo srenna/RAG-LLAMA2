{
  "nbformat": 4,
  "nbformat_minor": 0,
  "metadata": {
    "colab": {
      "provenance": [],
      "gpuType": "V100",
      "include_colab_link": true
    },
    "kernelspec": {
      "name": "python3",
      "display_name": "Python 3"
    },
    "language_info": {
      "name": "python"
    },
    "accelerator": "GPU"
  },
  "cells": [
    {
      "cell_type": "markdown",
      "metadata": {
        "id": "view-in-github",
        "colab_type": "text"
      },
      "source": [
        "<a href=\"https://colab.research.google.com/github/srenna/RAGOpenAI/blob/main/RAG_with_OpenAI.ipynb\" target=\"_parent\"><img src=\"https://colab.research.google.com/assets/colab-badge.svg\" alt=\"Open In Colab\"/></a>"
      ]
    },
    {
      "cell_type": "code",
      "execution_count": 36,
      "metadata": {
        "id": "a8qLJu14BBGU",
        "colab": {
          "base_uri": "https://localhost:8080/"
        },
        "outputId": "f38472ed-31f1-421a-a50c-d1fe898d2a84"
      },
      "outputs": [
        {
          "output_type": "stream",
          "name": "stdout",
          "text": [
            "Drive already mounted at /content/drive/; to attempt to forcibly remount, call drive.mount(\"/content/drive/\", force_remount=True).\n"
          ]
        }
      ],
      "source": [
        "from google.colab import drive\n",
        "drive.mount('/content/drive/')"
      ]
    },
    {
      "cell_type": "code",
      "source": [
        "!pip install langchain --progress-bar off\n",
        "!pip install openai --progress-bar off\n",
        "!pip install tiktoken --progress-bar off\n",
        "!pip install faiss-gpu --progress-bar off\n",
        "!pip install langchain_experimental --progress-bar off\n",
        "!pip install \"langchain[docarray]\" --progress-bar off\n",
        "!pip install -qqq pypdf==3.15.0 --progress-bar off\n",
        "!pip install -U langchain-openai --progress-bar off"
      ],
      "metadata": {
        "id": "B0-NbtZiBIiv"
      },
      "execution_count": null,
      "outputs": []
    },
    {
      "cell_type": "code",
      "source": [
        "from langchain.chains import RetrievalQA\n",
        "from langchain.chat_models import ChatOpenAI\n",
        "from langchain.document_loaders import TextLoader\n",
        "from langchain.vectorstores import DocArrayInMemorySearch\n",
        "from IPython.display import display, Markdown\n",
        "from langchain.text_splitter import CharacterTextSplitter\n",
        "from langchain.embeddings import OpenAIEmbeddings, HuggingFaceInstructEmbeddings\n",
        "from langchain.vectorstores import FAISS\n",
        "from langchain.memory import ConversationBufferMemory\n",
        "from langchain.chains import ConversationalRetrievalChain\n",
        "from langchain.indexes import VectorstoreIndexCreator\n",
        "from langchain_experimental.agents.agent_toolkits.csv.base import create_csv_agent\n",
        "from langchain.agents.agent_types import AgentType\n",
        "from langchain.memory import ConversationBufferMemory\n",
        "import tiktoken\n",
        "import os\n",
        "import re"
      ],
      "metadata": {
        "id": "1s--mfl-BJ5A"
      },
      "execution_count": 38,
      "outputs": []
    },
    {
      "cell_type": "code",
      "source": [
        "# Prompt the user for their OpenAI API key\n",
        "api_key = input(\"Please enter your OpenAI API key: \")\n",
        "\n",
        "# Set the API key as an environment variable\n",
        "os.environ[\"OPENAI_API_KEY\"] = api_key\n",
        "\n",
        "# Optionally, check that the environment variable was set correctly\n",
        "print(\"OPENAI_API_KEY has been set!\")\n"
      ],
      "metadata": {
        "id": "wb30MdMQBJ7p"
      },
      "execution_count": null,
      "outputs": []
    },
    {
      "cell_type": "code",
      "source": [
        "from langchain.text_splitter import CharacterTextSplitter\n",
        "from langchain.document_loaders import PyPDFDirectoryLoader\n",
        "from langchain_openai import OpenAIEmbeddings"
      ],
      "metadata": {
        "id": "47J3q7pOBP46"
      },
      "execution_count": 19,
      "outputs": []
    },
    {
      "cell_type": "code",
      "source": [
        "# load the directory\n",
        "pdf_file_path = '/content/drive/MyDrive/POVs/Test PDF'\n",
        "loader = PyPDFDirectoryLoader(pdf_file_path)\n",
        "data = loader.load()\n",
        "\n",
        "print(len(data))\n",
        "# chunk the data\n",
        "text_splitter = CharacterTextSplitter(chunk_size=1000, chunk_overlap=200)\n",
        "data = text_splitter.split_documents(data)"
      ],
      "metadata": {
        "id": "rtsMFbg_BP93",
        "colab": {
          "base_uri": "https://localhost:8080/"
        },
        "outputId": "1e82e51b-d345-4df1-ac88-51d6f0f6a77d"
      },
      "execution_count": 20,
      "outputs": [
        {
          "output_type": "stream",
          "name": "stdout",
          "text": [
            "16\n"
          ]
        }
      ]
    },
    {
      "cell_type": "code",
      "source": [
        "# Define a function to clean the text\n",
        "def clean_text(text):\n",
        "    # Remove '\\xa0' (non-breaking space)\n",
        "    text = re.sub(r'\\xa0', ' ', text)\n",
        "\n",
        "    # Remove '\\n' (newlines)\n",
        "    text = re.sub(r'\\n', ' ', text)\n",
        "\n",
        "    # Remove consecutive dots ('.....') with just one dot\n",
        "    text = re.sub(r'\\.{2,}', '', text)\n",
        "\n",
        "    # Remove '\\uf0b7'\n",
        "    text = re.sub(r'\\uf0b7', ' ', text)\n",
        "\n",
        "    # Remove consecutive spaces\n",
        "    text = re.sub(r' +', ' ', text)\n",
        "\n",
        "    return text\n",
        "\n",
        "# Clean the text in the 'page_content' of each document in the 'data' list\n",
        "import re\n",
        "\n",
        "for document in data:\n",
        "    document.page_content = clean_text(document.page_content)"
      ],
      "metadata": {
        "id": "e2RNHxvL1y-w"
      },
      "execution_count": 21,
      "outputs": []
    },
    {
      "cell_type": "code",
      "source": [
        "# preview some data\n",
        "# data"
      ],
      "metadata": {
        "id": "Dg51KX1UE0Gm"
      },
      "execution_count": null,
      "outputs": []
    },
    {
      "cell_type": "code",
      "source": [
        "# Create vector store\n",
        "embeddings = OpenAIEmbeddings()\n",
        "vectorstore = FAISS.from_documents(data, embedding=embeddings)"
      ],
      "metadata": {
        "id": "vTA2cOJ0BKAF"
      },
      "execution_count": 23,
      "outputs": []
    },
    {
      "cell_type": "code",
      "source": [
        "# Create conversation chain\n",
        "llm = ChatOpenAI(temperature=0.7, model_name=\"gpt-4\")\n",
        "memory = ConversationBufferMemory(\n",
        "memory_key='chat_history', return_messages=True)\n",
        "conversation_chain = ConversationalRetrievalChain.from_llm(\n",
        "        llm=llm,\n",
        "        chain_type=\"stuff\",\n",
        "        retriever=vectorstore.as_retriever(),\n",
        "        memory=memory\n",
        "        )"
      ],
      "metadata": {
        "id": "qZOmPg9pBxHP"
      },
      "execution_count": 24,
      "outputs": []
    },
    {
      "cell_type": "code",
      "source": [
        "# query = \"When does the new Standard is effective for reporting periods begin\"\n",
        "# result = conversation_chain({\"question\": query})\n",
        "# answer = result[\"answer\"]\n",
        "# answer"
      ],
      "metadata": {
        "id": "T_il9FdyBy6r"
      },
      "execution_count": 25,
      "outputs": []
    },
    {
      "cell_type": "code",
      "source": [
        "# query = \"How much is the financial services industry's spending on quantum computing expected to grow by\"\n",
        "# result = conversation_chain({\"question\": query})\n",
        "# answer = result[\"answer\"]\n",
        "# answer"
      ],
      "metadata": {
        "id": "nzPyJmzrEJgS"
      },
      "execution_count": 26,
      "outputs": []
    },
    {
      "cell_type": "code",
      "source": [
        "# query = \"US electricity sales continued to rise as the pandemic recovery progressed. By how much did they increase?\"\n",
        "# result = conversation_chain({\"question\": query})\n",
        "# answer = result[\"answer\"]\n",
        "# answer"
      ],
      "metadata": {
        "id": "JwKJnv5wERXn"
      },
      "execution_count": 27,
      "outputs": []
    },
    {
      "cell_type": "code",
      "source": [
        "query = \"What are the upstream cyberthreats?\"\n",
        "result = conversation_chain({\"question\": query})\n",
        "answer = result[\"answer\"]\n",
        "answer"
      ],
      "metadata": {
        "id": "5KO8JLf9EZ5Y",
        "colab": {
          "base_uri": "https://localhost:8080/",
          "height": 70
        },
        "outputId": "0981a3dc-7fca-4c7c-ee46-5dc90690d77c"
      },
      "execution_count": 28,
      "outputs": [
        {
          "output_type": "execute_result",
          "data": {
            "text/plain": [
              "'The upstream cyber threats mentioned are misappropriation of commercially sensitive reservoir performance and well data, which can damage the operator’s competitive position in a play or field, and key well-control and safety equipment being pushed outside normal operating parameters or shut down completely, which can lead to operational shutdown and financial loss, as well as field safety incidents, due to equipment malfunction.'"
            ],
            "application/vnd.google.colaboratory.intrinsic+json": {
              "type": "string"
            }
          },
          "metadata": {},
          "execution_count": 28
        }
      ]
    },
    {
      "cell_type": "code",
      "source": [
        "query = \"Who are the authors of this document? There are two authors.\"\n",
        "result = conversation_chain({\"question\": query})\n",
        "answer = result[\"answer\"]\n",
        "answer"
      ],
      "metadata": {
        "colab": {
          "base_uri": "https://localhost:8080/",
          "height": 52
        },
        "id": "wEPuSqTg3_eX",
        "outputId": "3353f274-cf5c-4644-a49f-77a1be42b922"
      },
      "execution_count": 41,
      "outputs": [
        {
          "output_type": "execute_result",
          "data": {
            "text/plain": [
              "'The document does not provide the names of the authors specifically discussing upstream cyberthreats. However, it mentions Paul Zonneveld as the Global Energy & Resources Risk Advisory Leader at Deloitte Canada and the source of some information is attributed to Talbot, J, and Jakeman, M.'"
            ],
            "application/vnd.google.colaboratory.intrinsic+json": {
              "type": "string"
            }
          },
          "metadata": {},
          "execution_count": 41
        }
      ]
    },
    {
      "cell_type": "code",
      "source": [
        "query = \"Who are the threat actors in the oil and gas industry?\"\n",
        "result = conversation_chain({\"question\": query})\n",
        "answer = result[\"answer\"]\n",
        "answer"
      ],
      "metadata": {
        "colab": {
          "base_uri": "https://localhost:8080/",
          "height": 35
        },
        "id": "3rsP3g1F4ByH",
        "outputId": "551ea653-2b5b-45d9-ab0c-52e035cf5d92"
      },
      "execution_count": 34,
      "outputs": [
        {
          "output_type": "execute_result",
          "data": {
            "text/plain": [
              "'The text does not provide specific information on who the individuals or groups are that are responsible for the cyber threats in the oil and gas industry.'"
            ],
            "application/vnd.google.colaboratory.intrinsic+json": {
              "type": "string"
            }
          },
          "metadata": {},
          "execution_count": 34
        }
      ]
    },
    {
      "cell_type": "code",
      "source": [
        "query = \"Explain the integrated approach to combat cyber risk proposed by Deloitte.\"\n",
        "result = conversation_chain({\"question\": query})\n",
        "answer = result[\"answer\"]\n",
        "answer"
      ],
      "metadata": {
        "colab": {
          "base_uri": "https://localhost:8080/",
          "height": 104
        },
        "id": "-H15fbVt4Dse",
        "outputId": "fc0171e5-62b6-4187-a8e0-21b8fb0410dc"
      },
      "execution_count": 31,
      "outputs": [
        {
          "output_type": "execute_result",
          "data": {
            "text/plain": [
              "\"The document doesn't provide a detailed explanation of Deloitte's integrated approach to combat cyber risk. However, it does mention a cyber security maturity model, which includes aspects like awareness and education, network segmentation, annual risk assessment, physical security, vulnerability testing, security monitoring, incident response plans, and protection measures like virus and malware protection, end point security, mobile protection, third party security, and behavioral analytics. It also emphasizes a harmonized and aligned approach that integrates both engineering and IT disciplines. Additionally, it highlights the importance of understanding both the engineering and IT disciplines as well as leading sector-specific cyber security practices.\""
            ],
            "application/vnd.google.colaboratory.intrinsic+json": {
              "type": "string"
            }
          },
          "metadata": {},
          "execution_count": 31
        }
      ]
    }
  ]
}